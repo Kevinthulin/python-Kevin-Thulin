{
 "cells": [
  {
   "cell_type": "markdown",
   "metadata": {},
   "source": [
    "\n",
    "<a href=\"https://colab.research.google.com/github/kokchun/Python-course-AI22/blob/main/Exercises/01-if-statement-exercise.ipynb\" target=\"_parent\"><img align=\"left\" src=\"https://colab.research.google.com/assets/colab-badge.svg\" alt=\"Open In Colab\"/></a> &nbsp; to see hints and answers."
   ]
  },
  {
   "cell_type": "markdown",
   "metadata": {},
   "source": [
    "# if statements exercises\n",
    "\n",
    "---\n",
    "These are introductory exercises in Python with focus in **if** statement.\n",
    "\n",
    "<p class = \"alert alert-info\" role=\"alert\"><b>Remember</b> to use <b>descriptive variable names</b> in order to get readable code </p>\n",
    "\n",
    "<p class = \"alert alert-info\" role=\"alert\"><b>Remember</b> to format your answers in a neat way using <b>f-strings</b>\n",
    "\n",
    "<p class = \"alert alert-info\" role=\"alert\"><b>Remember</b> to format your input questions in a pedagogical way to guide the user\n",
    "\n",
    "The number of stars (\\*), (\\*\\*), (\\*\\*\\*) denotes the difficulty level of the task\n",
    "\n",
    "---"
   ]
  },
  {
   "cell_type": "markdown",
   "metadata": {},
   "source": [
    "## 1. Check sign (*)\n",
    "\n",
    "Ask the user to input a number and check if this number is **positive**, **negative** or **zero** and print it out."
   ]
  },
  {
   "cell_type": "code",
   "execution_count": 4,
   "metadata": {},
   "outputs": [
    {
     "name": "stdout",
     "output_type": "stream",
     "text": [
      "the number is negative\n"
     ]
    }
   ],
   "source": [
    "ask = float(input(\"Type a number: \"))\n",
    "\n",
    "if ask > 0:\n",
    "    print(\"positive number\")\n",
    "elif ask < 0:\n",
    "    print(\"the number is negative\")\n",
    "else:\n",
    "    print (\"the number is 0\")\n",
    "\n"
   ]
  },
  {
   "cell_type": "markdown",
   "metadata": {},
   "source": [
    "---\n",
    "## 2. Smallest (*)\n",
    "Ask the user to input two numbers and check which one is the smallest and print it out.   "
   ]
  },
  {
   "cell_type": "code",
   "execution_count": 5,
   "metadata": {},
   "outputs": [
    {
     "name": "stdout",
     "output_type": "stream",
     "text": [
      "same, same but different but still the same\n"
     ]
    }
   ],
   "source": [
    "number_one = float(input(\"write a number:\"))\n",
    "number_two = float(input(\"write a number:\"))\n",
    "\n",
    "if number_one > number_two:\n",
    "    print(\"higest number always win\")\n",
    "elif number_one < number_two:\n",
    "    print(\"As always biggest number always win\")\n",
    "else:\n",
    "    print(\"same, same but different but still the same\")"
   ]
  },
  {
   "cell_type": "markdown",
   "metadata": {},
   "source": [
    "---\n",
    "## 3. Right angle (*)\n",
    "\n",
    "Ask the user to input three angles and check if the triangle has a right angle. Your code should make sure that all three angles are valid and make up a triangle.\n",
    "\n",
    "<img align=\"left\" src=\"../Assets/triangle_angles.png\" width=\"200\"/>"
   ]
  },
  {
   "cell_type": "code",
   "execution_count": 3,
   "metadata": {},
   "outputs": [
    {
     "name": "stdout",
     "output_type": "stream",
     "text": [
      " rätt nummer på vinklarna\n"
     ]
    }
   ],
   "source": [
    "number_one = float(input(\"write a number:\"))\n",
    "number_two = float(input(\"write a number:\"))\n",
    "number_tree = float(input(\"write a number:\"))\n",
    "\n",
    "if (number_one + number_two + number_tree == 180):\n",
    "    print(\" rätt nummer på vinklarna\")\n",
    "else:\n",
    "    print(\"antingen förhögt nummer eller för lågt\")\n",
    "    \n"
   ]
  },
  {
   "cell_type": "markdown",
   "metadata": {},
   "source": [
    "----\n",
    "## 4. Medicine (*)\n",
    "\n",
    "The information in the following table is stated in a medicine package. Also it is stated that for children weight is more important than age.\n",
    "\n",
    "<table align=\"left\">\n",
    "<thead>\n",
    "    <tr>\n",
    "        <th></th>\n",
    "        <th>Age</th>\n",
    "        <th>Number of pills</th>\n",
    "    </tr>\n",
    "</thead>\n",
    "\n",
    "<tbody>\n",
    "  <tr>\n",
    "    <td>Adults & adolescent <br>over 40 kg</td>\n",
    "    <td>over 12 years</td>\n",
    "    <td>1-2</td>\n",
    "  </tr>\n",
    "\n",
    "  <tr>\n",
    "    <td>Children 26-40 kg</td>\n",
    "    <td>7-12 years</td>\n",
    "    <td>1/2-1</td>\n",
    "  </tr>\n",
    "\n",
    "  <tr>\n",
    "    <td>Children 15-25 kg</td>\n",
    "    <td>3-7 years</td>\n",
    "    <td>1/2</td>\n",
    "  </tr>\n",
    "</tbody>\n",
    "</table>"
   ]
  },
  {
   "cell_type": "markdown",
   "metadata": {},
   "source": [
    "Let the user input an **age** and a **weight**, the program should recommend the number of pills for the user."
   ]
  },
  {
   "cell_type": "code",
   "execution_count": 7,
   "metadata": {},
   "outputs": [
    {
     "name": "stdout",
     "output_type": "stream",
     "text": [
      "use 1/2 - 1 pills\n"
     ]
    }
   ],
   "source": [
    "weight = float(input(\"How old are you? :\"))\n",
    "\n",
    "\n",
    "if 40 < weight:\n",
    "    print(\"use 1 or 2 pills\")\n",
    "elif 26 <= weight <= 40:\n",
    "    print(\"use 1/2 - 1 pills\")\n",
    "elif 15 <= weight <= 25:\n",
    "    print(\"use 1/2 pills\")\n",
    "else:\n",
    "    print(\"dont take pills\")"
   ]
  },
  {
   "cell_type": "markdown",
   "metadata": {},
   "source": [
    "---\n",
    "## 5. Divisible (*)\n",
    "Let the user input a number. Check if the number is\n",
    "<ol type=\"a\">\n",
    "  <li>even or odd</li>\n",
    "  <li>is divisible by 5</li>\n",
    "  <li>is divisble by 5 and odd</li>\n",
    "</ol> "
   ]
  },
  {
   "cell_type": "code",
   "execution_count": 11,
   "metadata": {},
   "outputs": [
    {
     "name": "stdout",
     "output_type": "stream",
     "text": [
      " its an odd number\n"
     ]
    }
   ],
   "source": [
    "number = float(input(\"Write a cool number\"))\n",
    "\n",
    "if number % 2 == 0:\n",
    "    print(\"its a even number\")\n",
    "elif number % 1 ==  0:\n",
    "    print(\" its an odd number\")"
   ]
  },
  {
   "cell_type": "code",
   "execution_count": 20,
   "metadata": {},
   "outputs": [
    {
     "name": "stdout",
     "output_type": "stream",
     "text": [
      "its divisible by 5\n"
     ]
    }
   ],
   "source": [
    "number = float(input(\"Write a cool number\"))\n",
    "\n",
    "if number % 5 == 0:\n",
    "    print(\"its divisible by 5\")\n",
    "else:\n",
    "    print(\"not divisible by 5\")\n"
   ]
  },
  {
   "cell_type": "code",
   "execution_count": 25,
   "metadata": {},
   "outputs": [
    {
     "name": "stdout",
     "output_type": "stream",
     "text": [
      "its divisible by 5 and a odd number\n"
     ]
    }
   ],
   "source": [
    "number = float(input(\"Write a cool number\"))\n",
    "\n",
    "if number % 5 == 0 and number % 1 == 0:\n",
    "    print(\"its divisible by 5 and a odd number\")\n",
    "else:\n",
    "    print(\"not divisible by 5\")"
   ]
  },
  {
   "cell_type": "markdown",
   "metadata": {},
   "source": [
    "---\n",
    "## 6. Luggage size (*)\n",
    "\n",
    "The maximum allowed luggage size for boarding an airplane is: \n",
    "- weight: 8kg\n",
    "- dimensions: 55x40x23cm (length x width x height) \n",
    "\n",
    "Let the user input weight, length, width and height of the luggage. The program should check if the luggage is allowed or not."
   ]
  },
  {
   "cell_type": "code",
   "execution_count": 2,
   "metadata": {},
   "outputs": [
    {
     "name": "stdout",
     "output_type": "stream",
     "text": [
      " its allowed\n"
     ]
    }
   ],
   "source": [
    "weight = float(input(\"what is the weight, in kilos? :\"))\n",
    "length = float(input(\"what is the length in cm? :\"))\n",
    "width = float(input(\"what is the width in cm? :\"))\n",
    "height = float(input(\"what is the height in cm? :\"))\n",
    "\n",
    "if weight <= 9 and length <= 56 and width <= 41 and height <= 24:\n",
    "    print(\" its allowed\")\n",
    "else:\n",
    "    print(\"not allowed\")"
   ]
  },
  {
   "cell_type": "markdown",
   "metadata": {},
   "source": [
    "---\n",
    "\n",
    "Kokchun Giang\n",
    "\n",
    "[LinkedIn][linkedIn_kokchun]\n",
    "\n",
    "[GitHub portfolio][github_portfolio]\n",
    "\n",
    "[linkedIn_kokchun]: https://www.linkedin.com/in/kokchungiang/\n",
    "[github_portfolio]: https://github.com/kokchun/Portfolio-Kokchun-Giang\n",
    "\n",
    "---"
   ]
  }
 ],
 "metadata": {
  "kernelspec": {
   "display_name": "Python 3.9.6 64-bit",
   "language": "python",
   "name": "python3"
  },
  "language_info": {
   "codemirror_mode": {
    "name": "ipython",
    "version": 3
   },
   "file_extension": ".py",
   "mimetype": "text/x-python",
   "name": "python",
   "nbconvert_exporter": "python",
   "pygments_lexer": "ipython3",
   "version": "3.11.5"
  },
  "orig_nbformat": 4,
  "vscode": {
   "interpreter": {
    "hash": "0da836a34428266995a795f1e1e27b816fa1c02f148d9728b3fbbbc5459afca6"
   }
  }
 },
 "nbformat": 4,
 "nbformat_minor": 2
}
