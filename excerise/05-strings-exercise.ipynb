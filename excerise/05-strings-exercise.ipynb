{
 "cells": [
  {
   "cell_type": "markdown",
   "metadata": {},
   "source": [
    "<a href=\"https://colab.research.google.com/github/kokchun/Python-course-AI22/blob/main/Exercises/05-strings-exercise.ipynb\" target=\"_parent\"><img align=\"left\" src=\"https://colab.research.google.com/assets/colab-badge.svg\" alt=\"Open In Colab\"/></a> &nbsp; to see hints and answers."
   ]
  },
  {
   "cell_type": "markdown",
   "metadata": {},
   "source": [
    "# strings exercises\n",
    "\n",
    "---\n",
    "These are introductory exercises in Python with focus in **strings**.\n",
    "\n",
    "<p class = \"alert alert-info\" role=\"alert\"><b>Remember</b> to use <b>descriptive variable names</b> in order to get readable code </p>\n",
    "\n",
    "<p class = \"alert alert-info\" role=\"alert\"><b>Remember</b> to format your answers in a neat way using <b>f-strings</b>\n",
    "\n",
    "<p class = \"alert alert-info\" role=\"alert\"><b>Remember</b> to format your input questions in a pedagogical way to guide the user\n",
    "\n",
    "The number of stars (\\*), (\\*\\*), (\\*\\*\\*) denotes the difficulty level of the task\n",
    "\n",
    "---"
   ]
  },
  {
   "cell_type": "markdown",
   "metadata": {},
   "source": [
    "## 1. Counting letters (*)\n",
    "\n",
    "Let the user input a word: \n",
    "\n",
    "&nbsp; a) &nbsp; print out the number of letters in the word. (*) \n",
    "  \n",
    "&nbsp; b) &nbsp; print out the number of **uppercase** and **lowercase** letters of the word (*)   \n"
   ]
  },
  {
   "cell_type": "code",
   "execution_count": 24,
   "metadata": {},
   "outputs": [
    {
     "name": "stdout",
     "output_type": "stream",
     "text": [
      "1 4\n"
     ]
    }
   ],
   "source": [
    "word_input = input(\"write any word: \")\n",
    "\n",
    "lower = 0\n",
    "upper = 0\n",
    "\n",
    "for i in word_input:\n",
    "    if i.isupper():\n",
    "        upper += 1\n",
    "    elif i.islower():\n",
    "        lower += 1\n",
    "\n",
    "\n",
    "print(upper, lower)\n",
    "\n"
   ]
  },
  {
   "cell_type": "markdown",
   "metadata": {},
   "source": [
    "---\n",
    "## 2. Print names separately (*)\n",
    "\n",
    "Ask the user to input their first and last name (same input e.g. \"Fredrik Johansson\"). Then print the names separately:\n",
    "\n",
    "<details>\n",
    "\n",
    "<summary>Answer</summary>\n",
    "\n",
    "```\n",
    "Firstname: Fredrik\n",
    "Lastname: Johansson\n",
    "```"
   ]
  },
  {
   "cell_type": "code",
   "execution_count": 35,
   "metadata": {},
   "outputs": [
    {
     "name": "stdout",
     "output_type": "stream",
     "text": [
      "first name: Tja\n",
      "Last name: dp\n"
     ]
    }
   ],
   "source": [
    "input_name = input(\"vad heter du?\")\n",
    "\n",
    "first_name, split_imput = input_name.split(None, 1)\n",
    "\n",
    "print(\"first name:\", first_name)\n",
    "\n",
    "print(\"Last name:\", split_imput)\n",
    "\n",
    "\n"
   ]
  },
  {
   "cell_type": "markdown",
   "metadata": {},
   "source": [
    "---\n",
    "## 3. Counting words (*)\n",
    "\n",
    "Count the number of words in this sentence: \"A picture says more than a thousand words, a matematical formula says more than a thousand pictures.\" (*) \n",
    "\n",
    "<details>\n",
    "\n",
    "<summary>Answer</summary>\n",
    "\n",
    "```\n",
    "There are 17 words in that sentence\n",
    "```"
   ]
  },
  {
   "cell_type": "code",
   "execution_count": 43,
   "metadata": {},
   "outputs": [
    {
     "name": "stdout",
     "output_type": "stream",
     "text": [
      "There is 17 words in the sentence\n"
     ]
    }
   ],
   "source": [
    "Thousands_words = (\"A picture says more than a thousand words, a matematical formula says more than a thousand pictures.\")\n",
    "\n",
    "word_count = len(Thousands_words.split())\n",
    "\n",
    "\n",
    "print(f\"There is {word_count} words in the sentence\")"
   ]
  },
  {
   "cell_type": "markdown",
   "metadata": {},
   "source": [
    "---\n",
    "## 4. Print words in reverse (*)\n",
    "\n",
    "a) Ask the user to input a sentence, then print the words in reverse order. (*) \n",
    "\n",
    "b) Also, make the first letter in the first word uppercase when reversed.\n",
    "\n",
    "<details>\n",
    "\n",
    "<summary>Answer</summary>\n",
    "\n",
    "```\n",
    "a)\n",
    "Example input: This is input from the user\n",
    "Output: user the from input is This\n",
    "```\n",
    "\n",
    "```\n",
    "b)\n",
    "Example input: This is input from the user\n",
    "Output: User the from input is this\n",
    "```\n"
   ]
  },
  {
   "cell_type": "code",
   "execution_count": 50,
   "metadata": {},
   "outputs": [
    {
     "name": "stdout",
     "output_type": "stream",
     "text": [
      "Då\n",
      "Hej\n"
     ]
    }
   ],
   "source": [
    "user_input = input(\"Write a sentence: \")\n",
    "\n",
    "max_words = user_input.split()\n",
    "\n",
    "reversed_list = reversed(max_words)\n",
    "\n",
    "for x in reversed_list:\n",
    "    print(x.title())"
   ]
  },
  {
   "cell_type": "markdown",
   "metadata": {},
   "source": [
    "---\n",
    "## 5. Palindrome (*)\n",
    "\n",
    "A palindrome is a sequence of characters that is the same, when read forward as backwards (ignoring spaces). For example:\n",
    "- \"Anna\" is a palindrome\n",
    "- \"Ni talar bra latin\"\n",
    "- \"bjkjb \"\n",
    "\n",
    "Let the user input a sequence of characters and check if it is a palindrome. (*)"
   ]
  },
  {
   "cell_type": "code",
   "execution_count": 19,
   "metadata": {},
   "outputs": [
    {
     "name": "stdout",
     "output_type": "stream",
     "text": [
      "its a plindrome\n"
     ]
    }
   ],
   "source": [
    "def palindrome(s):\n",
    "    s = s.lower().replace(\" \", \"\")\n",
    "\n",
    "    return s == s[::-1]\n",
    "\n",
    "user_input = input(\"skriv en sekvens av tecken:\")\n",
    "\n",
    "if palindrome(user_input):\n",
    "    print(\"its a plindrome\")\n",
    "else:\n",
    "    print(\"its not a palindrome\")\n"
   ]
  },
  {
   "cell_type": "markdown",
   "metadata": {},
   "source": [
    "---\n",
    "## 6. Vowels (**)\n",
    "\n",
    "Count the number of vowels in this sentence: \"Pure mathematics is, in its way, the poetry of logical ideas\"\n",
    "\n",
    "<details>\n",
    "\n",
    "<summary>Answer</summary>\n",
    "\n",
    "```\n",
    "\n",
    "There are 22 vowels in this sentence\n",
    "\n",
    "```\n",
    "</details>"
   ]
  },
  {
   "cell_type": "code",
   "execution_count": 11,
   "metadata": {},
   "outputs": [
    {
     "name": "stdout",
     "output_type": "stream",
     "text": [
      "22\n"
     ]
    }
   ],
   "source": [
    "math_sentence = \"Pure mathematics is, in its way, the poetry of logical ideas\"\n",
    "\n",
    "vowels = \"AEIOUYaeiouy\"\n",
    "\n",
    "list = sum(1 for names in math_sentence if names in vowels )\n",
    "\n",
    "print(list)\n"
   ]
  },
  {
   "cell_type": "markdown",
   "metadata": {},
   "source": [
    "---\n",
    "## 7. Rövarspråket (**)\n",
    "\n",
    "Ask the user to input a sentence, and translate it using the formula described in this article:\n",
    "\n",
    "https://en.wikipedia.org/wiki/R%C3%B6varspr%C3%A5ket\n"
   ]
  },
  {
   "cell_type": "code",
   "execution_count": 64,
   "metadata": {},
   "outputs": [
    {
     "name": "stdout",
     "output_type": "stream",
     "text": [
      "hoheyoy momyoy nonamome isos kokevovinon\n"
     ]
    }
   ],
   "source": [
    "user_input = input(\"write a sentence: \")\n",
    "\n",
    "stored_sentence = \"\"\n",
    "\n",
    "consonant = \"BCDFGJKLMNPQSTVXZHRWYbcdfgjklmnpqstvxzhrwy\"\n",
    "\n",
    "iterate_sentence = len(user_input)\n",
    "\n",
    "for char in user_input:\n",
    "    if char in consonant:\n",
    "        stored_sentence += char + \"o\" + char\n",
    "    else:\n",
    "        stored_sentence += char\n",
    "\n",
    "print(stored_sentence)\n"
   ]
  },
  {
   "cell_type": "markdown",
   "metadata": {},
   "source": [
    "---\n",
    "## 8. Encryption (**)\n",
    "\n",
    "Let the user input a word and: \n",
    "\n",
    "&nbsp; a) &nbsp; encrypt the message by replacing each letter with the next letter. If the letter is in the end of the alphabet, use the first letter instead. \n",
    "\n",
    "e.g. in Swedish: \"höst\" $\\rightarrow$ \"iatu\"\n",
    "\n",
    "&nbsp; b) &nbsp; decrypt the message\n",
    "\n",
    "&nbsp; c) &nbsp; let the user choose either encryption or decryption."
   ]
  },
  {
   "cell_type": "code",
   "execution_count": 82,
   "metadata": {},
   "outputs": [
    {
     "name": "stdout",
     "output_type": "stream",
     "text": [
      "Decrypted word: hej\n"
     ]
    }
   ],
   "source": [
    "def encrypt(word):\n",
    "    alphabet = \"abcdefghijklmnopqrstuvwxyzåäö\"\n",
    "    encrypted = \"\"\n",
    "\n",
    "    for char in word:\n",
    "        if char in alphabet:\n",
    "            next_index = (alphabet.index(char) + 1) % len(alphabet)\n",
    "            encrypted += alphabet[next_index]\n",
    "        else:\n",
    "            encrypted += char\n",
    "\n",
    "    return encrypted\n",
    "\n",
    "def decrypt(word):\n",
    "    alphabet = \"abcdefghijklmnopqrstuvwxyzåäö\"\n",
    "    decrypted = \"\"\n",
    "\n",
    "    for char in word:\n",
    "        if char in alphabet:\n",
    "            prev_index = (alphabet.index(char) -1) % len(alphabet)\n",
    "            decrypted += alphabet[prev_index]\n",
    "        else:\n",
    "            decrypted += char\n",
    "\n",
    "    return decrypted\n",
    "\n",
    "\n",
    "def main():\n",
    "    choice = input(\"would you like to encrypt? (enter 'e' for enrycpt or 'd' för decrypt)\")\n",
    "    user_input = input(\"what is the word you would like to use?\")\n",
    "\n",
    "    if choice == 'e':\n",
    "        print(\"Encrypted word:\", encrypt(user_input))\n",
    "    elif choice == 'd':\n",
    "        print(\"Decrypted word:\", decrypt(user_input))\n",
    "    else:\n",
    "        print(\"not the right command\")\n",
    "\n",
    "if __name__ == \"__main__\":\n",
    "    main()\n"
   ]
  },
  {
   "cell_type": "code",
   "execution_count": 20,
   "metadata": {},
   "outputs": [
    {
     "name": "stdout",
     "output_type": "stream",
     "text": [
      "hdskjhaeh\n"
     ]
    }
   ],
   "source": [
    "user_input = input(\"enter a sentence\")\n",
    "reversed_string = user_input[::-1]\n",
    "print(reversed_string)"
   ]
  },
  {
   "cell_type": "code",
   "execution_count": 5,
   "metadata": {},
   "outputs": [
    {
     "name": "stdout",
     "output_type": "stream",
     "text": [
      "6 12\n"
     ]
    }
   ],
   "source": [
    "def count_vowels_and_consonatns(s):\n",
    "    s = s.lower()\n",
    "    vowels = \"aieuoy\"\n",
    "\n",
    "    num_vowels = sum(1 for char in s if char in vowels)\n",
    "    num_consonants = sum(1 for char in s if char.isalpha() and char not in vowels)\n",
    "\n",
    "    return num_vowels, num_consonants\n",
    "\n",
    "user_input = input(\"enter a sentence\")\n",
    "vowels, consonant = count_vowels_and_consonatns(user_input) \n",
    "print(f\"{vowels} {consonant}\")"
   ]
  },
  {
   "cell_type": "code",
   "execution_count": 4,
   "metadata": {},
   "outputs": [
    {
     "name": "stdout",
     "output_type": "stream",
     "text": [
      "den längst är kevekkkevek\n"
     ]
    }
   ],
   "source": [
    "def longest_plidndromic_substring(s):\n",
    "    max_length = 0\n",
    "    start_index = 0\n",
    "\n",
    "    for i in range(len(s)):\n",
    "        for j in range(i, len(s)):\n",
    "            length = j - i + 1\n",
    "            if length > max_length and s[i:j+1] == s[i:j+1][::-1]:\n",
    "                start_index = i\n",
    "                max_length = length\n",
    "    \n",
    "    return s[start_index:start_index+max_length]\n",
    "\n",
    "user_input = input(\"enter a sentence\")\n",
    "result = longest_plidndromic_substring(user_input)\n",
    "print(f\"den längst är {result}\")"
   ]
  },
  {
   "cell_type": "code",
   "execution_count": 8,
   "metadata": {},
   "outputs": [
    {
     "name": "stdout",
     "output_type": "stream",
     "text": [
      "25, ['Alice', 'Charlie']\n",
      "30, ['Bob', 'David', 'Frank']\n",
      "35, ['Eve']\n"
     ]
    }
   ],
   "source": [
    "def people_age(names, ages):\n",
    "    \n",
    "\n",
    "    empty_dic = {}\n",
    "\n",
    "    # zip_list = names(zip(ages, range(4), range(4)))\n",
    "    for name, age in zip(names, ages):\n",
    "        if age in empty_dic:\n",
    "            empty_dic[age].append(name)\n",
    "        else:\n",
    "            empty_dic[age] = [name]\n",
    "\n",
    "    for age, names_list in empty_dic.items():\n",
    "        \n",
    "        print(f\"{age}, {names_list}\")\n",
    "    \n",
    "names = [\"Alice\", \"Bob\", \"Charlie\", \"David\", \"Eve\", \"Frank\"]\n",
    "ages = [25, 30, 25, 30, 35, 30]\n",
    "\n",
    "\n",
    "people_age(names, ages)"
   ]
  },
  {
   "cell_type": "code",
   "execution_count": 9,
   "metadata": {},
   "outputs": [
    {
     "name": "stdout",
     "output_type": "stream",
     "text": [
      "{3: ['boy', 'dog', 'egg', 'fig', 'hat'], 5: ['apple'], 6: ['crater']}\n"
     ]
    }
   ],
   "source": [
    "def quantity_itmes(items):\n",
    "\n",
    "    empy_dic = {}\n",
    "\n",
    "    for item in items:\n",
    "        length = len(item)\n",
    "        if length in empy_dic:\n",
    "            empy_dic[length].append(item)\n",
    "        else:\n",
    "            empy_dic[length] = [item]\n",
    "\n",
    "    return empy_dic\n",
    "\n",
    "\n",
    "\n",
    "\n",
    "\n",
    "items_list = [\"boy\", \"dog\", \"egg\", \"fig\", \"hat\", \"apple\", \"crater\"]\n",
    "\n",
    "print(quantity_itmes(items_list))"
   ]
  },
  {
   "cell_type": "code",
   "execution_count": 17,
   "metadata": {},
   "outputs": [
    {
     "name": "stdout",
     "output_type": "stream",
     "text": [
      "[1, 2, 3, 2, 4, 3, 5, 1] 2\n",
      "[1, 2, 3, 2, 4, 3, 5, 1] 2\n",
      "[1, 2, 3, 2, 4, 3, 5, 1] 2\n",
      "[1, 2, 3, 2, 4, 3, 5, 1] 1\n",
      "[1, 2, 3, 2, 4, 3, 5, 1] 1\n"
     ]
    }
   ],
   "source": [
    "def unique_numbers(numbers):\n",
    "    \n",
    "    empty_dic = {}\n",
    "\n",
    "    for number in numbers:\n",
    "        if number in empty_dic:\n",
    "            empty_dic[number] += 1\n",
    "        else:\n",
    "            empty_dic[number] = 1\n",
    "\n",
    "    for number, count in empty_dic.items():\n",
    "        print(f\"{numbers} {count}\")\n",
    "\n",
    "    \n",
    "numbers_list = [1, 2, 3, 2, 4, 3, 5, 1]\n",
    "unique_numbers(numbers_list)\n",
    "\n",
    "\n",
    "\n"
   ]
  },
  {
   "cell_type": "code",
   "execution_count": 27,
   "metadata": {},
   "outputs": [
    {
     "name": "stdout",
     "output_type": "stream",
     "text": [
      "{'the': 3, 'quick': 2, 'brown': 1, 'fox': 2, 'jumped': 1, 'over': 1, 'lazy': 1, 'dog': 1, 'was': 1}\n"
     ]
    }
   ],
   "source": [
    "def most_frequent_words(words):\n",
    "    word_split = words.split()\n",
    "\n",
    "    word_dic = {}\n",
    "\n",
    "    for word in word_split:\n",
    "        lower_words = word.lower()\n",
    "        no_puncuation = lower_words.replace(\".\", \"\")\n",
    "        if no_puncuation in word_dic:\n",
    "            word_dic[no_puncuation] += 1\n",
    "        else:\n",
    "            word_dic[no_puncuation] = 1\n",
    "\n",
    "    return word_dic\n",
    "    \n",
    "\n",
    "\n",
    "\n",
    "user_input = (\"The quick brown fox jumped over the lazy dog. The fox was quick.\")\n",
    "print(most_frequent_words(user_input))"
   ]
  },
  {
   "cell_type": "markdown",
   "metadata": {},
   "source": [
    "Alright! Let's try a different type of exercise.\n",
    "\n",
    "Task: Write a function that takes a sentence as input and returns the sentence with every word reversed, but the order of the words in the sentence should remain the same.\n",
    "\n",
    "Example:\n",
    "Input: \"Hello World\"\n",
    "Output: \"olleH dlroW\"\n",
    "\n",
    "Hints:\n",
    "\n",
    "Split the sentence into words.\n",
    "Reverse each word individually.\n",
    "Join the reversed words to form the reversed sentence.\n",
    "Methods to Consider:\n",
    "\n",
    "split()\n",
    "String slicing for reversal\n",
    "join()"
   ]
  },
  {
   "cell_type": "code",
   "execution_count": null,
   "metadata": {},
   "outputs": [],
   "source": []
  },
  {
   "cell_type": "markdown",
   "metadata": {},
   "source": [
    "---\n",
    "\n",
    "Kokchun Giang\n",
    "\n",
    "[LinkedIn][linkedIn_kokchun]\n",
    "\n",
    "[GitHub portfolio][github_portfolio]\n",
    "\n",
    "[linkedIn_kokchun]: https://www.linkedin.com/in/kokchungiang/\n",
    "[github_portfolio]: https://github.com/kokchun/Portfolio-Kokchun-Giang\n",
    "\n",
    "---"
   ]
  }
 ],
 "metadata": {
  "kernelspec": {
   "display_name": "Python 3.9.6 64-bit",
   "language": "python",
   "name": "python3"
  },
  "language_info": {
   "codemirror_mode": {
    "name": "ipython",
    "version": 3
   },
   "file_extension": ".py",
   "mimetype": "text/x-python",
   "name": "python",
   "nbconvert_exporter": "python",
   "pygments_lexer": "ipython3",
   "version": "3.11.5"
  },
  "orig_nbformat": 4,
  "vscode": {
   "interpreter": {
    "hash": "0da836a34428266995a795f1e1e27b816fa1c02f148d9728b3fbbbc5459afca6"
   }
  }
 },
 "nbformat": 4,
 "nbformat_minor": 2
}
