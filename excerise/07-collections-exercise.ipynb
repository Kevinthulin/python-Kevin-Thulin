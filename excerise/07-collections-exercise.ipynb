{
 "cells": [
  {
   "cell_type": "markdown",
   "metadata": {},
   "source": [
    "\n",
    "<a href=\"https://colab.research.google.com/github/kokchun/Python-course-AI22/blob/main/Exercises/06-functions-exericse.ipynb\" target=\"_parent\"><img align=\"left\" src=\"https://colab.research.google.com/assets/colab-badge.svg\" alt=\"Open In Colab\"/></a> &nbsp; to see hints and answers."
   ]
  },
  {
   "cell_type": "markdown",
   "metadata": {},
   "source": [
    "# Collections exercises\n",
    "\n",
    "---\n",
    "These are introductory exercises in Python with focus on **Collections** (list, dictionary, set).\n",
    "\n",
    "<p class = \"alert alert-info\" role=\"alert\"><b>List</b> is a collection of items which are ordered and changeable. Allows duplicate members.</p>\n",
    "\n",
    "<p class = \"alert alert-info\" role=\"alert\"><b>Dictionary</b> is a collection of key-value-pairs which are ordered and changeable. No duplicate keys.</p>\n",
    "\n",
    "<p class = \"alert alert-info\" role=\"alert\"><b>Set</b> is a collection of items which is unordered, unchangeable*, and unindexed. No duplicate members.</p>\n",
    "\n",
    "The number of stars (\\*), (\\*\\*), (\\*\\*\\*) denotes the difficulty level of the task\n",
    "\n",
    "---"
   ]
  },
  {
   "cell_type": "markdown",
   "metadata": {},
   "source": [
    "## 1. Print inputed values in reverse (*)\n",
    "\n",
    "Create a loop that keeps asking for user input until the user inputs an empty string, then print all inputs in reverse order."
   ]
  },
  {
   "cell_type": "code",
   "execution_count": 3,
   "metadata": {},
   "outputs": [
    {
     "name": "stdout",
     "output_type": "stream",
     "text": [
      "lilla\n",
      "din\n",
      "då\n",
      "hej\n"
     ]
    }
   ],
   "source": [
    "stored_words = []\n",
    "while True:\n",
    "    user_input = input(\"enter inputs or enter to quit!: \")\n",
    "\n",
    "    if user_input == \"\":\n",
    "        break\n",
    "\n",
    "    stored_words.append(user_input)\n",
    "\n",
    "for words in reversed(stored_words):\n",
    "    print(words)"
   ]
  },
  {
   "cell_type": "markdown",
   "metadata": {},
   "source": [
    "---\n",
    "\n",
    "## 2. Print a given number using words. (*)\n",
    "\n",
    "Create a dictionary with 10 key-value pairs: {\"0\": \"Zero\", \"1\": \"One\", ..., \"9\": \"Nine\"}\n",
    "\n",
    "Make the program ask the user to input a number, then print the word for each number in sequence;\n",
    "\n",
    "<details>\n",
    "\n",
    "<summary>Example</summary>\n",
    "\n",
    "```\n",
    "Input: 34507\n",
    "Output: Three-Four-Five-Zero-Seven\n",
    "```\n",
    "\n",
    "</details>\n"
   ]
  },
  {
   "cell_type": "code",
   "execution_count": 12,
   "metadata": {},
   "outputs": [
    {
     "name": "stdout",
     "output_type": "stream",
     "text": [
      "Five\n",
      "Four\n",
      "Seven\n"
     ]
    }
   ],
   "source": [
    "number_dic = {\n",
    "    \"0\": \"Zero\",\n",
    "    \"1\": \"One\",\n",
    "    \"2\": \"Two\",\n",
    "    \"3\": \"Three\",\n",
    "    \"4\": \"Four\",\n",
    "    \"5\": \"Five\",\n",
    "    \"6\": \"Six\",\n",
    "    \"7\": \"Seven\",\n",
    "    \"8\": \"Eight\",\n",
    "    \"9\": \"Nine\"\n",
    "}\n",
    "\n",
    "user_input = input(\"write a number:\")\n",
    "\n",
    "for key in user_input:\n",
    "    if key in number_dic:\n",
    "        print(number_dic[key])\n",
    "\n"
   ]
  },
  {
   "cell_type": "markdown",
   "metadata": {},
   "source": [
    "---\n",
    "## 3. Glossary training program (*)\n",
    "\n",
    "Create a glossary training program, where the user can test their skills on translating the names of english colors to swedish:\n",
    "\n",
    "- The program should ask the user to write a color in swedish (eg. \"Type the Swedish word for 'red': )\n",
    "\n",
    "- Then let the user know if it was correct (and if not, show them the correct translation)\n",
    "\n",
    "- Keep asking to translate random colors until the user inputs an blank answer (\"\")\n",
    "\n",
    "- Lastly let the user know how many of their translations where correct, how many they guess in total, and the ratio of correct answer (eg. \"You got 3 out of 5 correct answers. That is 60%\")\n"
   ]
  },
  {
   "cell_type": "code",
   "execution_count": 73,
   "metadata": {},
   "outputs": [
    {
     "name": "stdout",
     "output_type": "stream",
     "text": [
      "what is green in swedish?\n",
      "what is green in swedish?\n",
      "what is purple in swedish?\n",
      "what is purple in swedish?\n",
      "what is pink in swedish?\n",
      "what is blue in swedish?\n",
      "what is red in swedish?\n",
      "you had right 66.66666666666666% of the questions. The number for right questions were 4 and the number of wrong answers were 2 out of 6\n"
     ]
    }
   ],
   "source": [
    "import random\n",
    "\n",
    "color_dic = {\n",
    "    \"röd\": \"red\",\n",
    "    \"grön\": \"green\",\n",
    "    \"blå\": \"blue\",\n",
    "    \"gul\": \"yellow\",\n",
    "    \"brun\": \"brown\",\n",
    "    \"vit\": \"white\",\n",
    "    \"svart\": \"black\",\n",
    "    \"lila\": \"purple\",\n",
    "    \"rosa\": \"pink\",\n",
    "    \"orange\": \"orange\",\n",
    "}\n",
    "\n",
    "right = 0\n",
    "wrong = 0\n",
    "total_questions = 0\n",
    "\n",
    "while True:\n",
    "    random_color = random.choice(list(color_dic.values()))\n",
    "    random_color_swedish = [key for key, value in color_dic.items() if value == random_color][0]\n",
    "    promt = f\"what is {random_color} in swedish?\"\n",
    "    print(promt)\n",
    "    user_input = input(\"your answer\")\n",
    "    if user_input:\n",
    "        total_questions += 1\n",
    "    \n",
    "    if user_input == random_color_swedish:\n",
    "        right += 1\n",
    "    elif user_input != random_color_swedish and not user_input == \"\":\n",
    "        wrong += 1\n",
    "\n",
    "\n",
    "    if user_input == \"\":\n",
    "        break\n",
    "if total_questions > 0:\n",
    "    right_wrong = (right / total_questions) * 100\n",
    "    print(f\"you had right {right_wrong}% of the questions. The number for right questions were {right} and the number of wrong answers were {wrong} out of {total_questions} questions\")\n",
    "else:\n",
    "    print(\"you did not input anything\")\n",
    "\n"
   ]
  },
  {
   "cell_type": "code",
   "execution_count": null,
   "metadata": {},
   "outputs": [],
   "source": []
  },
  {
   "cell_type": "markdown",
   "metadata": {},
   "source": [
    "---\n",
    "## 4. Find common values between two inputs (*)\n",
    "\n",
    "Ask the user to input items on a comma-seperated list (1 input string)\n",
    "\n",
    "Then ask the user to input a new string of comma seperated items.\n",
    "\n",
    "Lastly, print all the items that appeared in both lists.\n",
    "\n",
    "<details>\n",
    "\n",
    "<summary>Example</summary>\n",
    "\n",
    "```\n",
    "Input A: green, red, yellow, purple, blue\n",
    "Input B: red, blue, black, white, brown\n",
    "Output: red, blue\n",
    "```\n",
    "\n",
    "</details>"
   ]
  },
  {
   "cell_type": "code",
   "execution_count": 72,
   "metadata": {},
   "outputs": [
    {
     "name": "stdout",
     "output_type": "stream",
     "text": [
      "{'Red'}\n"
     ]
    }
   ],
   "source": [
    "user_input = input(\"write a list of colors \")\n",
    "user_input2 = input(\"write a list of colors \")\n",
    "\n",
    "list_one = user_input.split(\",\")\n",
    "list_two = user_input2.split(\",\")\n",
    "\n",
    "\n",
    "common_elements = set(list_one).intersection(list_two)\n",
    "\n",
    "print(common_elements)"
   ]
  },
  {
   "cell_type": "markdown",
   "metadata": {},
   "source": [
    "---\n",
    "\n",
    "## 5. Print a given number using words (version 2). (**)\n",
    "\n",
    "Make the program ask the user to input any number from 0 to 99999.\n",
    "\n",
    "The program should then print out the full sequence of words for the number.\n",
    "\n",
    "<details>\n",
    "\n",
    "<summary>Example</summary>\n",
    "\n",
    "```\n",
    "Input: 34507\n",
    "Output: Thirtyfour thousand five hundred and seven\n",
    "```\n",
    "\n",
    "</details>\n"
   ]
  },
  {
   "cell_type": "code",
   "execution_count": null,
   "metadata": {},
   "outputs": [],
   "source": [
    "user_input = int(input(\"write number between 0 and 99999\"))"
   ]
  },
  {
   "cell_type": "markdown",
   "metadata": {},
   "source": [
    "---\n",
    "\n",
    "Fredrik Johansson\n",
    "\n",
    "Github: https://github.com/everyloop\n",
    "\n",
    "---"
   ]
  }
 ],
 "metadata": {
  "kernelspec": {
   "display_name": "Python 3.9.6 64-bit",
   "language": "python",
   "name": "python3"
  },
  "language_info": {
   "codemirror_mode": {
    "name": "ipython",
    "version": 3
   },
   "file_extension": ".py",
   "mimetype": "text/x-python",
   "name": "python",
   "nbconvert_exporter": "python",
   "pygments_lexer": "ipython3",
   "version": "3.11.5"
  },
  "orig_nbformat": 4,
  "vscode": {
   "interpreter": {
    "hash": "0da836a34428266995a795f1e1e27b816fa1c02f148d9728b3fbbbc5459afca6"
   }
  }
 },
 "nbformat": 4,
 "nbformat_minor": 2
}
