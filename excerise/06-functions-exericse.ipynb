{
 "cells": [
  {
   "cell_type": "markdown",
   "metadata": {},
   "source": [
    "\n",
    "<a href=\"https://colab.research.google.com/github/kokchun/Python-course-AI22/blob/main/Exercises/06-functions-exericse.ipynb\" target=\"_parent\"><img align=\"left\" src=\"https://colab.research.google.com/assets/colab-badge.svg\" alt=\"Open In Colab\"/></a> &nbsp; to see hints and answers."
   ]
  },
  {
   "cell_type": "markdown",
   "metadata": {},
   "source": [
    "# functions exercises\n",
    "\n",
    "---\n",
    "These are introductory exercises in Python with focus in **functions**.\n",
    "\n",
    "<p class = \"alert alert-info\" role=\"alert\"><b>Remember</b> to use <b>descriptive variable and function names</b> in order to get readable code </p>\n",
    "\n",
    "<p class = \"alert alert-info\" role=\"alert\"><b>Remember</b> to format your answers in a neat way using <b>f-strings</b>\n",
    "\n",
    "<p class = \"alert alert-info\" role=\"alert\"><b>Remember</b> to format your input questions in a pedagogical way to guide the user\n",
    "\n",
    "The number of stars (\\*), (\\*\\*), (\\*\\*\\*) denotes the difficulty level of the task\n",
    "\n",
    "---"
   ]
  },
  {
   "cell_type": "markdown",
   "metadata": {},
   "source": [
    "## 1. Area (*)\n",
    "\n",
    "Create a function that takes the base and height of a triangle as input parameters and returns the area of the triangle."
   ]
  },
  {
   "cell_type": "code",
   "execution_count": 3,
   "metadata": {},
   "outputs": [],
   "source": [
    "import math\n",
    "\n",
    "height_input = float(input(\"what is the hight of a triangle\"))\n",
    "base_input = float(input(\"what is the base of a triangle\"))\n",
    "\n",
    "\n",
    "area = 1/2 * base_input * height_input\n",
    "\n",
    "print(f\"The area of the triangle with base {base_input} and {height_input}: {area}\")"
   ]
  },
  {
   "cell_type": "markdown",
   "metadata": {},
   "source": [
    "---\n",
    "\n",
    "## 2. Euclidean distance (*)\n",
    "\n",
    "The formula for Euclidean distance in 2D between $P: (p_1, p_2)$ and $Q: (q_1, q_2)$  is: \n",
    "\n",
    "$d(P,Q) = \\sqrt{(p_1-q_1)^2 + (p_2-q_2)^2}$\n",
    "\n",
    "&nbsp; a) &nbsp; Create a function that takes two points as input parameters and return the Euclidean between them. (*)\n",
    "\n",
    "&nbsp; b) &nbsp; Let the user input two points. Call the function using the users input points. (*)\n",
    "\n",
    "&nbsp; c) &nbsp; Use your function to calculate distances between the origin (0, 0) and each of these points: (10, 3), (-1, -9), (10, -10), (4, -2), (9, -10). (*)\n",
    "\n",
    "<details>\n",
    "\n",
    "<summary>Hint</summary>\n",
    "\n",
    "Use a **for** statement\n",
    "\n",
    "</details>\n",
    "<br>\n",
    "<details>\n",
    "\n",
    "<summary>Answer</summary>\n",
    "\n",
    "c)\n",
    "\n",
    "```\n",
    "[10.4, 9.1, 14.1, 4.5, 13.5]\n",
    "```\n",
    "\n",
    "</details>\n"
   ]
  },
  {
   "cell_type": "code",
   "execution_count": null,
   "metadata": {},
   "outputs": [],
   "source": [
    "import math\n",
    "\n",
    "def euclidean_distance(P, Q):\n",
    "    return math.sqrt((P[0] - Q[0])**2 + (P[1] + Q[1])**2)\n",
    "\n",
    "q_one_input = float(input(\"what is p1?: \"))\n",
    "q_two_input = float(input(\"what is p2?: \"))\n",
    "p_one_input = float(input(\"what is q1?: \"))\n",
    "p_two_input = float(input(\"what is q2?: \"))\n",
    "\n",
    "P = (p_one_input, p_two_input)\n",
    "Q = (q_one_input, q_two_input)\n",
    "\n",
    "distance = euclidean_distance(P, Q)\n",
    "\n",
    "print(f\"{distance}\")"
   ]
  },
  {
   "cell_type": "code",
   "execution_count": null,
   "metadata": {},
   "outputs": [],
   "source": [
    "points = [(10, 3), (-1, -9), (10, -10), (4, -2), (9, -2), (9, -10)]\n",
    "\n",
    "origin = (0, 0)\n",
    "\n",
    "for points in points:\n",
    "    distance = euclidean_distance(origin, points)\n",
    "    print(f\"distance from origin to {points}: {distance}\")"
   ]
  },
  {
   "cell_type": "markdown",
   "metadata": {},
   "source": [
    "---\n",
    "## 3. Mathematical functions (*)\n",
    "\n",
    "Make the following functions with **def** or **lambda** and plot their graphs in the same figure window, with $x\\in [-10,10]$ :\n",
    "\n",
    "&nbsp; a) &nbsp;  $f(x) = x^2 -3$ (*)\n",
    "\n",
    "&nbsp; b) &nbsp; $g(x) = 4x-7$ (*)\n",
    "\n",
    "What could the relation between $f(x)$ and $g(x)$ be?\n",
    "\n",
    "<details>\n",
    "\n",
    "<summary>Hint</summary>\n",
    "Use numpy's linspace function:\n",
    "\n",
    "```python\n",
    "import numpy as np\n",
    "x = np.linspace(-10,10)\n",
    "```\n",
    "\n",
    "[Derivative video][derivative_video] (Swedish)\n",
    "\n",
    "[Derivative of polynomials][derivative_polynomial] (Swedish)\n",
    "\n",
    "[derivative_video]: https://www.youtube.com/watch?v=hzXJxOXkU_M\n",
    "[derivative_polynomial]: https://www.youtube.com/watch?v=dFnro1sBn1Y\n",
    "\n",
    "</details>\n",
    "<br>\n",
    "<details>\n",
    "\n",
    "<summary>Answer</summary>\n",
    "\n",
    "<img align=\"left\" src=\"../Assets/functions_graph.png\" width=\"200\"/>\n",
    "\n",
    "</details>\n"
   ]
  },
  {
   "cell_type": "code",
   "execution_count": null,
   "metadata": {},
   "outputs": [],
   "source": [
    "def plot_graph(f, g):\n",
    "    f(x) = x**2 - 3"
   ]
  },
  {
   "cell_type": "markdown",
   "metadata": {},
   "source": [
    "---\n",
    "## 4. Name cleaner (*)\n",
    "\n",
    "Create a function that takes a name as an input and:\n",
    "\n",
    "- removes all leading and trailing blank spaces\n",
    "- make capitalize the first character of each name, and make the rest lowercase\n",
    "\n",
    "Use your function on this list of strings: \n",
    "\n",
    "```\n",
    "[\"  MaRcUs \", \" iDA aNderSon\", \"OLOF Olofsson            \"  ]\n",
    "```\n",
    "\n",
    "\n",
    "<details>\n",
    "\n",
    "<summary>Hint</summary>\n",
    "Use \n",
    "\n",
    "- [title() method][str_title]\n",
    "- [strip() method][str_strip]\n",
    "- [join() method][str_join]\n",
    "- [split() method][str_split]\n",
    "\n",
    "[str_title]: https://www.w3schools.com/python/ref_string_title.asp\n",
    "[str_strip]: https://www.w3schools.com/python/ref_string_strip.asp\n",
    "[str_join]: https://www.w3schools.com/python/ref_string_join.asp\n",
    "[str_split]: https://www.w3schools.com/python/ref_string_split.asp \n",
    "\n",
    "</details>\n",
    "<br>\n",
    "<details>\n",
    "\n",
    "<summary>Answer</summary>\n",
    "\n",
    "```\n",
    "Marcus\n",
    "Ida Anderson\n",
    "Olof Olofsson\n",
    "```\n",
    "\n",
    "</details>\n"
   ]
  },
  {
   "cell_type": "code",
   "execution_count": null,
   "metadata": {},
   "outputs": [],
   "source": [
    "def name_cleaner(name):\n",
    "    words = name.strip().split()\n",
    "\n",
    "    cleaned_words = [word.capitalize() for word in words]\n",
    "\n",
    "    cleard_names = ' '.join(cleaned_words)\n",
    "\n",
    "    return cleard_names\n",
    "\n",
    "\n",
    "names = [\"  MaRcUs \", \" iDA aNderSon\", \"OLOF Olofsson            \"  ]\n",
    "\n",
    "cleaned_names = [name_cleaner(name) for name in names]\n",
    "\n",
    "print(cleaned_names)\n"
   ]
  },
  {
   "cell_type": "markdown",
   "metadata": {},
   "source": [
    "---\n",
    "## 5. Change (**)\n",
    "\n",
    "Create a function that takes a value as input parameter and print out the banknotes and coins in Swedish currency representing this value. For example 5289 would give the following printout: \n",
    "\n",
    "- 5st 1000-lapp\n",
    "- 1st 200-lapp\n",
    "- 1st 50-lapp\n",
    "- 1st 20-lapp\n",
    "- 1st 10-krona\n",
    "- 1st 5-krona\n",
    "- 2st 2-krona\n",
    "\n",
    "Now let the user input a value, and use the function to calculate the change."
   ]
  },
  {
   "cell_type": "markdown",
   "metadata": {},
   "source": [
    "---\n",
    "\n",
    "Kokchun Giang\n",
    "\n",
    "[LinkedIn][linkedIn_kokchun]\n",
    "\n",
    "[GitHub portfolio][github_portfolio]\n",
    "\n",
    "[linkedIn_kokchun]: https://www.linkedin.com/in/kokchungiang/\n",
    "[github_portfolio]: https://github.com/kokchun/Portfolio-Kokchun-Giang\n",
    "\n",
    "---"
   ]
  },
  {
   "cell_type": "code",
   "execution_count": null,
   "metadata": {},
   "outputs": [
    {
     "name": "stdout",
     "output_type": "stream",
     "text": [
      "You have 7 tusenlappar\n",
      "You have 1 femhundralappar\n",
      "You have 1 tvåhundralappar\n",
      "You have 1 hundralappar\n",
      "You have 1 femtiolappar\n",
      "You have 2 tjugolappar\n",
      "You have 1 tvåkronor\n"
     ]
    }
   ],
   "source": [
    "def value_input(money):\n",
    "    \n",
    "    bills = [\n",
    "        (1000, \"tusenlappar\"),\n",
    "        (500, \"femhundralappar\"),\n",
    "        (200, \"tvåhundralappar\"),\n",
    "        (100, \"hundralappar\"),\n",
    "        (50, \"femtiolappar\"),\n",
    "        (20, \"tjugolappar\"),\n",
    "        (10, \"tiokronor\"),\n",
    "        (5, \"femkronor\"),\n",
    "        (2, \"tvåkronor\")\n",
    "    ]\n",
    "\n",
    "    for value, notes in bills:\n",
    "        divided_money = money // value\n",
    "        money %= value\n",
    "        if divided_money > 0:\n",
    "            print(f\"You have {divided_money} {notes}\")\n",
    "    \n",
    "money = int(input(\"Enter the amount: \"))\n",
    "value_input(money)\n"
   ]
  },
  {
   "cell_type": "code",
   "execution_count": null,
   "metadata": {},
   "outputs": [],
   "source": []
  },
  {
   "cell_type": "code",
   "execution_count": 40,
   "metadata": {},
   "outputs": [
    {
     "name": "stdout",
     "output_type": "stream",
     "text": [
      "[(0, 1), (1, 9), (2, 8), (3, 7), (5, 11), (6, 12), (13, 14)]\n"
     ]
    },
    {
     "data": {
      "text/plain": [
       "'732416'"
      ]
     },
     "execution_count": 40,
     "metadata": {},
     "output_type": "execute_result"
    }
   ],
   "source": [
    "def find_special_numbers(text):\n",
    "    matches = []\n",
    "\n",
    "    for start in range(len(text)):\n",
    "        if not text[start].isdigit():\n",
    "            continue\n",
    "\n",
    "        for end in range(start + 1, len(text) + 1):\n",
    "            substring = text[start:end]\n",
    "\n",
    "            if not substring.isdigit():\n",
    "                break\n",
    "            if substring[0] == substring[-1] and substring.count(substring[0]) == 2:\n",
    "                matches.append((start, end - 1))\n",
    "    return matches\n",
    "\n",
    "\n",
    "text_hello = \"442356732416788\"\n",
    "\n",
    "print(find_special_numbers(text_hello))\n",
    "a = (find_special_numbers(text_hello))\n",
    "\n",
    "def write_number(a):\n",
    "    \n",
    "    for item in range(len(a) - 1):\n",
    "        start = a[item][0]\n",
    "        end = a[item][1]\n",
    "\n",
    "        slice_item = text_hello[start:end]\n",
    "\n",
    "    return slice_item\n",
    "\n",
    "write_number(a)\n",
    "\n",
    "\n"
   ]
  },
  {
   "cell_type": "code",
   "execution_count": 42,
   "metadata": {},
   "outputs": [
    {
     "name": "stdout",
     "output_type": "stream",
     "text": [
      "\n",
      "\u001b[42m04212686510\u001b[0m02310145684g8621358s463c24\n",
      "\n",
      "0\u001b[42m4212686510231014\u001b[0m45684g8621358s463c24\n",
      "\n",
      "04\u001b[42m212\u001b[0m26865102310145684g8621358s463c24\n",
      "\n",
      "042\u001b[42m1268651\u001b[0m102310145684g8621358s463c24\n",
      "\n",
      "0421\u001b[42m26865102\u001b[0m2310145684g8621358s463c24\n",
      "\n",
      "04212\u001b[42m686\u001b[0m65102310145684g8621358s463c24\n",
      "\n",
      "042126\u001b[42m86510231014568\u001b[0m84g8621358s463c24\n",
      "\n",
      "0421268\u001b[42m651023101456\u001b[0m684g8621358s463c24\n",
      "\n",
      "04212686\u001b[42m5102310145\u001b[0m5684g8621358s463c24\n",
      "\n",
      "042126865\u001b[42m10231\u001b[0m10145684g8621358s463c24\n",
      "\n",
      "0421268651\u001b[42m02310\u001b[0m0145684g8621358s463c24\n",
      "\n",
      "0421268651023\u001b[42m101\u001b[0m145684g8621358s463c24\n",
      "\n",
      "0421268651023101\u001b[42m45684\u001b[0m4g8621358s463c24\n",
      "\n",
      "042126865102310145684g\u001b[42m8621358\u001b[0m8s463c24\n"
     ]
    }
   ],
   "source": [
    "text = \"042126865102310145684g8621358s463c24\"\n",
    "\n",
    " \n",
    "\n",
    "import string\n",
    "\n",
    "from colorama import Back, Style\n",
    "\n",
    " \n",
    "\n",
    "for start in range (len (text)): \n",
    "\n",
    "    nextind = start+1    \n",
    "\n",
    "    while nextind < len(text): \n",
    "\n",
    "        if text[start] not in string.digits or text[nextind] not in string.digits:\n",
    "\n",
    "            break\n",
    "\n",
    "        if text [start] == text [nextind]:\n",
    "\n",
    "            print(f\"\\n{text[:start]}{Back.GREEN}{text [start:nextind+1]}{Style.RESET_ALL}{text[nextind:]}\")\n",
    "\n",
    "            break\n",
    "\n",
    "        nextind += 1"
   ]
  }
 ],
 "metadata": {
  "kernelspec": {
   "display_name": "Python 3.9.6 64-bit",
   "language": "python",
   "name": "python3"
  },
  "language_info": {
   "codemirror_mode": {
    "name": "ipython",
    "version": 3
   },
   "file_extension": ".py",
   "mimetype": "text/x-python",
   "name": "python",
   "nbconvert_exporter": "python",
   "pygments_lexer": "ipython3",
   "version": "3.11.5"
  },
  "orig_nbformat": 4,
  "vscode": {
   "interpreter": {
    "hash": "0da836a34428266995a795f1e1e27b816fa1c02f148d9728b3fbbbc5459afca6"
   }
  }
 },
 "nbformat": 4,
 "nbformat_minor": 2
}
