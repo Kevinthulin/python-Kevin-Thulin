{
 "cells": [
  {
   "cell_type": "code",
   "execution_count": 9,
   "metadata": {},
   "outputs": [
    {
     "data": {
      "text/plain": [
       "[1, 1, 1, 0]"
      ]
     },
     "execution_count": 9,
     "metadata": {},
     "output_type": "execute_result"
    }
   ],
   "source": [
    "# Read the data from files again\n",
    "with open(\"../data/datapoints.txt\", \"r\") as f:\n",
    "    data = f.readlines()[1:]\n",
    "    datapoints = [(float(point.split(\",\")[0]), float(point.split(\",\")[1]), int(point.split(\",\")[2])) for point in data]\n",
    "\n",
    "with open(\"../data/testpoints.txt\", \"r\") as f:\n",
    "    data = f.readlines()[1:]\n",
    "    testpoints = [(float(point.split(\",\")[0].split(\"(\")[1]), float(point.split(\",\")[1].split(\")\")[0])) for point in data]\n",
    "\n",
    "# Function to calculate distance\n",
    "def distance(p1, p2):\n",
    "    return ((p1[0] - p2[0]) ** 2 + (p1[1] - p2[1]) ** 2) ** 0.5\n",
    "\n",
    "# Function to classify a point\n",
    "def classify(point):\n",
    "    distances = [(distance(point, datapoint), datapoint[2]) for datapoint in datapoints]\n",
    "    distances.sort(key=lambda x: x[0])\n",
    "    nearest_10 = distances[:10]\n",
    "    pichus = sum(1 for d in nearest_10 if d[1] == 0)\n",
    "    pikachus = 10 - pichus\n",
    "    return 0 if pichus > pikachus else 1\n",
    "\n",
    "# Classify the testpoints from the file\n",
    "results = [classify(testpoint) for testpoint in testpoints]\n",
    "\n",
    "results\n"
   ]
  },
  {
   "cell_type": "code",
   "execution_count": null,
   "metadata": {},
   "outputs": [],
   "source": []
  }
 ],
 "metadata": {
  "kernelspec": {
   "display_name": "Python 3",
   "language": "python",
   "name": "python3"
  },
  "language_info": {
   "codemirror_mode": {
    "name": "ipython",
    "version": 3
   },
   "file_extension": ".py",
   "mimetype": "text/x-python",
   "name": "python",
   "nbconvert_exporter": "python",
   "pygments_lexer": "ipython3",
   "version": "3.11.5"
  },
  "orig_nbformat": 4
 },
 "nbformat": 4,
 "nbformat_minor": 2
}
