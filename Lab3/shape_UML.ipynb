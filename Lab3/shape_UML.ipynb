{
 "cells": [
  {
   "cell_type": "markdown",
   "metadata": {},
   "source": [
    "![Shape UML Diagram](Pictures/Shape_UML.png)\n"
   ]
  },
  {
   "cell_type": "markdown",
   "metadata": {},
   "source": [
    "- UML-diagrammet beskriver ett system av geometriska former, och kategoriserar dem som 2D- eller 3D-typer genom arv från en bas Shape klassen. Speciella statiska metoder i Shape klassen, indikerade med understruket text och används för validering. Diagrammet visar också flera specialiserade formklasser som Sphere, Cube, Circle, och Rectangle, var och en med sina egna attribut och metoder för beräkningar som volym och area."
   ]
  }
 ],
 "metadata": {
  "kernelspec": {
   "display_name": "Python 3",
   "language": "python",
   "name": "python3"
  },
  "language_info": {
   "codemirror_mode": {
    "name": "ipython",
    "version": 3
   },
   "file_extension": ".py",
   "mimetype": "text/x-python",
   "name": "python",
   "nbconvert_exporter": "python",
   "pygments_lexer": "ipython3",
   "version": "3.11.5"
  }
 },
 "nbformat": 4,
 "nbformat_minor": 2
}
