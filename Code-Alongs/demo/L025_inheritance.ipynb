{
 "cells": [
  {
   "cell_type": "code",
   "execution_count": 44,
   "metadata": {},
   "outputs": [
    {
     "ename": "SyntaxError",
     "evalue": "invalid syntax. Perhaps you forgot a comma? (1935412770.py, line 31)",
     "output_type": "error",
     "traceback": [
      "\u001b[1;36m  Cell \u001b[1;32mIn[44], line 31\u001b[1;36m\u001b[0m\n\u001b[1;33m    Dog(\"Zelda\" is_loud = True),\u001b[0m\n\u001b[1;37m        ^\u001b[0m\n\u001b[1;31mSyntaxError\u001b[0m\u001b[1;31m:\u001b[0m invalid syntax. Perhaps you forgot a comma?\n"
     ]
    }
   ],
   "source": [
    "class Animal:\n",
    "    def __init__(self, name):\n",
    "        self.name = name\n",
    "        \n",
    "\n",
    "    def __str__(self):\n",
    "        return f\"My name is {self.name} and I am a {type(self).__name__}\"\n",
    "    \n",
    "    def run(self):\n",
    "        print(f\"{self.name} is running\")\n",
    "\n",
    "class Cat(Animal):\n",
    "    ...\n",
    "\n",
    "class Dog(Animal):\n",
    "    super\n",
    "    def bark(self):\n",
    "        if self.is_loud:\n",
    "            print(f\"\\n{self.name} is barking: VOFF VOFF\")\n",
    "        else:\n",
    "            print(f\"\\n{self.name} is barking: voff voff\")\n",
    "\n",
    "\n",
    "\n",
    "\n",
    "class Fish(Animal):\n",
    "    def run(self):\n",
    "        print(f\"{self.name} is swimming\")\n",
    "\n",
    "animals = [\n",
    "    Cat(\"Gustaf\"),\n",
    "    Dog(\"Zelda\" is_loud = True),\n",
    "    Fish(\"Nemo\"),\n",
    "    Dog(\"Alma\" is_loud = False),\n",
    "]\n",
    "for animal in animals:\n",
    "    animal.run()\n",
    "    #if hasattr(animal, \"bark\"):\n",
    "    #if type(animal) == Dog:\n",
    "    if isinstance(animal, Dog):\n",
    "        animal.bark()\n",
    "\n",
    "animals[1].bark()\n"
   ]
  },
  {
   "cell_type": "code",
   "execution_count": 29,
   "metadata": {},
   "outputs": [
    {
     "name": "stdout",
     "output_type": "stream",
     "text": [
      "isinstance(my_cat, Cat) = True\n"
     ]
    }
   ],
   "source": [
    "my_cat = Cat(\"pelle\")\n",
    "print(f\"{isinstance(my_cat, Cat) = }\")"
   ]
  },
  {
   "cell_type": "code",
   "execution_count": 31,
   "metadata": {},
   "outputs": [
    {
     "name": "stdout",
     "output_type": "stream",
     "text": [
      "issubclass(Cat, Dog) = False\n",
      "issubclass(Cat, Animal) = True\n",
      "issubclass(Cat, object) = True\n",
      "issubclass(Animal, Cat) = False\n"
     ]
    }
   ],
   "source": [
    "print(f\"{issubclass(Cat, Dog) = }\")\n",
    "print(f\"{issubclass(Cat, Animal) = }\")\n",
    "print(f\"{issubclass(Cat, object) = }\")\n",
    "print(f\"{issubclass(Animal, Cat) = }\")"
   ]
  },
  {
   "cell_type": "code",
   "execution_count": 38,
   "metadata": {},
   "outputs": [
    {
     "name": "stdout",
     "output_type": "stream",
     "text": [
      "hasattr(my_dog, 'name') = True\n",
      "hasattr(my_dog, 'bark') = True\n"
     ]
    }
   ],
   "source": [
    "my_dog = Dog(\"Pelle\")\n",
    "print(f\"{hasattr(my_dog, 'name') = }\")\n",
    "print(f\"{hasattr(my_dog, 'bark') = }\")\n",
    "# print(f\"{hasattr(Cat, object) = }\")\n",
    "# print(f\"{hasattr(Animal, Cat) = }\")"
   ]
  },
  {
   "cell_type": "code",
   "execution_count": null,
   "metadata": {},
   "outputs": [],
   "source": []
  }
 ],
 "metadata": {
  "kernelspec": {
   "display_name": "Python 3",
   "language": "python",
   "name": "python3"
  },
  "language_info": {
   "codemirror_mode": {
    "name": "ipython",
    "version": 3
   },
   "file_extension": ".py",
   "mimetype": "text/x-python",
   "name": "python",
   "nbconvert_exporter": "python",
   "pygments_lexer": "ipython3",
   "version": "3.11.5"
  },
  "orig_nbformat": 4
 },
 "nbformat": 4,
 "nbformat_minor": 2
}
