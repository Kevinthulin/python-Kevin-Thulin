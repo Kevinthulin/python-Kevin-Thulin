{
 "cells": [
  {
   "cell_type": "markdown",
   "metadata": {},
   "source": [
    "# sets\n",
    "- set items are unordered, unchangeable, and do not allow duplicate values.\n",
    "- items can not be a ccess using indexes or slicing.\n",
    "- set item can be of any data type and caontain different data types."
   ]
  },
  {
   "cell_type": "code",
   "execution_count": 9,
   "metadata": {},
   "outputs": [
    {
     "name": "stdout",
     "output_type": "stream",
     "text": [
      "8\n",
      "{1, 3, 4, 5, 9, 11, 12}\n"
     ]
    }
   ],
   "source": [
    "#empy set\n",
    "empy_set = set{}\n",
    "\n",
    "# create set with values\n",
    "\n",
    "a = {1, 3, 5, 3, 4, 10}\n",
    "\n",
    "#add value\n",
    "a.add(12)\n",
    "\n",
    "a.update({9, 10, 11})\n",
    "# Get number of items in set\n",
    "print(f\"{len(a)}\")\n",
    "\n",
    "\n",
    "# remove element from set if it exists\n",
    "a.discard(10)\n",
    "\n",
    "# print sets\n",
    "print(f\"{a}\")"
   ]
  },
  {
   "cell_type": "markdown",
   "metadata": {},
   "source": [
    "## combining sets\n",
    "sets can be combined i nseveral ways:\n",
    "- **Union** Return a set that contains all items from both set, duplicates are excluded.\n",
    "- **Intersection** Return a set that contains the items that exists in both set *a*. and set *b*\n",
    "- **Difference** Return a set that contains the items that only exists in set *a*, and not in set *b*\n",
    "- **symetric difference** Return a set that contains all items from both sets, execpt items that are present in both set."
   ]
  },
  {
   "cell_type": "code",
   "execution_count": 15,
   "metadata": {},
   "outputs": [
    {
     "name": "stdout",
     "output_type": "stream",
     "text": [
      "a ={1, 3, 4, 5, 9, 11, 12}\n",
      "b ={2, 4, 5, 7, 10, 11, 15}\n",
      "\n",
      "{1, 2, 3, 4, 5, 7, 9, 10, 11, 12, 15}\n",
      "{11, 4, 5}\n",
      "{1, 3, 12, 9}\n",
      "{2, 10, 15, 7}\n",
      "{1, 2, 3, 7, 9, 10, 12, 15}\n"
     ]
    }
   ],
   "source": [
    "b = {2, 4, 5, 7, 10, 11, 15}\n",
    "\n",
    "print(f\"{a =}\\n{b =}\\n\")\n",
    "\n",
    "print(f\"{a.union(b)}\")\n",
    "print(f\"{a.intersection(b)}\")\n",
    "print(f\"{a.difference(b)}\")\n",
    "print(f\"{b.difference(a)}\")\n",
    "print(f\"{a.symmetric_difference(b)}\")"
   ]
  }
 ],
 "metadata": {
  "kernelspec": {
   "display_name": "Python 3",
   "language": "python",
   "name": "python3"
  },
  "language_info": {
   "codemirror_mode": {
    "name": "ipython",
    "version": 3
   },
   "file_extension": ".py",
   "mimetype": "text/x-python",
   "name": "python",
   "nbconvert_exporter": "python",
   "pygments_lexer": "ipython3",
   "version": "3.11.5"
  },
  "orig_nbformat": 4
 },
 "nbformat": 4,
 "nbformat_minor": 2
}
