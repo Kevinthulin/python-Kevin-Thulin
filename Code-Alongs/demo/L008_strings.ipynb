{
 "cells": [
  {
   "cell_type": "markdown",
   "metadata": {},
   "source": [
    "# strings\n",
    "2 - data type used in oython for storing text\n",
    "- literal values with single or double quotes. \"double\" or 'single'\n",
    "- strings are immutable (meaning not changeable)"
   ]
  },
  {
   "cell_type": "markdown",
   "metadata": {},
   "source": [
    "# Concatenate\n",
    "- in python we can concatenate two or more strings using the + operator"
   ]
  },
  {
   "cell_type": "code",
   "execution_count": 13,
   "metadata": {},
   "outputs": [
    {
     "name": "stdout",
     "output_type": "stream",
     "text": [
      "helloworld\n"
     ]
    }
   ],
   "source": [
    "string1 = \"hello\"\n",
    "string2 = \"world\"\n",
    "\n",
    "string4 = string1 + string2\n",
    "\n",
    "print(string4)"
   ]
  },
  {
   "cell_type": "markdown",
   "metadata": {},
   "source": [
    "# multiline strings\n",
    "- python allows string literals to span multiple rows if started, and end, by \"\"\""
   ]
  },
  {
   "cell_type": "code",
   "execution_count": 14,
   "metadata": {},
   "outputs": [
    {
     "name": "stdout",
     "output_type": "stream",
     "text": [
      "this\n",
      "is\n",
      "an\n",
      "example\n",
      "this\n",
      "is\n",
      "an\n",
      "example\n"
     ]
    }
   ],
   "source": [
    "text = \"\"\"this\n",
    "is\n",
    "an\n",
    "example\"\"\"\n",
    "print(text)\n",
    "\n",
    "if True:\n",
    "    text = \"\"\"this\n",
    "is\n",
    "an\n",
    "example\"\"\"\n",
    "print(text)\n"
   ]
  },
  {
   "cell_type": "markdown",
   "metadata": {},
   "source": [
    "## Indexing and slicing\n"
   ]
  },
  {
   "cell_type": "code",
   "execution_count": 15,
   "metadata": {},
   "outputs": [
    {
     "name": "stdout",
     "output_type": "stream",
     "text": [
      "name = 'kevin'\n",
      "name[1] = 'e'\n",
      "name[1:5:2] = 'ei'\n"
     ]
    }
   ],
   "source": [
    "name = \"kevin\"\n",
    "print(f\"{name = }\")\n",
    "print(f\"{name[1] = }\")\n",
    "print(f\"{name[1:5:2] = }\")"
   ]
  },
  {
   "cell_type": "markdown",
   "metadata": {},
   "source": [
    "## Looping through a string"
   ]
  },
  {
   "cell_type": "code",
   "execution_count": 16,
   "metadata": {},
   "outputs": [
    {
     "name": "stdout",
     "output_type": "stream",
     "text": [
      "K\n",
      "e\n",
      "v\n",
      "i\n",
      "n\n",
      " \n",
      "T\n",
      "h\n",
      "u\n",
      "l\n",
      "i\n",
      "n\n"
     ]
    }
   ],
   "source": [
    "name = \"Kevin Thulin\"\n",
    "\n",
    "for char in name:\n",
    "    print(char)"
   ]
  },
  {
   "cell_type": "markdown",
   "metadata": {},
   "source": [
    "## Membership operators with string\n",
    "- In and Not in\n"
   ]
  },
  {
   "cell_type": "markdown",
   "metadata": {},
   "source": [
    "## Escape Characters\n",
    "- To insert characters that are illegal in a string, use an escape character.\n",
    "\n",
    "- An escape character is a backslash \\ followed by the character you want to insert.\n",
    "\n",
    "- An example of an illegal character is a double quote inside a string that is surrounded by double quotes:\n",
    "\n",
    "\n",
    "### common esacpe characters\n",
    "\n",
    "- \\\\\" double quote\n",
    "- \\\\' single quote\n",
    "- \\\\\\\\\n",
    "- \\\\n New line\n",
    "- \\\\t Tab"
   ]
  },
  {
   "cell_type": "code",
   "execution_count": 17,
   "metadata": {},
   "outputs": [
    {
     "name": "stdout",
     "output_type": "stream",
     "text": [
      "hellow\tworld\n",
      "Here \\ is \"sup dawg\" anyways\n"
     ]
    }
   ],
   "source": [
    "escaped_text = \"hellow\\tworld\\nHere \\\\ is \\\"sup dawg\\\" anyways\"\n",
    "print(escaped_text)"
   ]
  },
  {
   "cell_type": "markdown",
   "metadata": {},
   "source": [
    "## String methods"
   ]
  },
  {
   "cell_type": "code",
   "execution_count": 20,
   "metadata": {},
   "outputs": [
    {
     "name": "stdout",
     "output_type": "stream",
     "text": [
      "['Hej jag heter kevin']\n",
      "Hej jag heter kevin\n"
     ]
    }
   ],
   "source": [
    "text = input(\"enter a text\")\n",
    "\n",
    "words = text.split()\n",
    "\n",
    "print(words)\n",
    "\n",
    "for word in words:\n",
    "    print(word)\n",
    "\n"
   ]
  },
  {
   "cell_type": "code",
   "execution_count": 26,
   "metadata": {},
   "outputs": [
    {
     "name": "stdout",
     "output_type": "stream",
     "text": [
      ", 27\n",
      "kevin Thulin\n"
     ]
    }
   ],
   "source": [
    "data = \"kevin Thulin, 27\"\n",
    "\n",
    "index = data.find(\",\")\n",
    "name = data[:index]\n",
    "print(data[index:])\n",
    "print(name)"
   ]
  }
 ],
 "metadata": {
  "kernelspec": {
   "display_name": "Python 3",
   "language": "python",
   "name": "python3"
  },
  "language_info": {
   "codemirror_mode": {
    "name": "ipython",
    "version": 3
   },
   "file_extension": ".py",
   "mimetype": "text/x-python",
   "name": "python",
   "nbconvert_exporter": "python",
   "pygments_lexer": "ipython3",
   "version": "3.11.5"
  },
  "orig_nbformat": 4
 },
 "nbformat": 4,
 "nbformat_minor": 2
}
