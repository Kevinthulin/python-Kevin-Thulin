{
 "cells": [
  {
   "cell_type": "markdown",
   "metadata": {},
   "source": [
    "## List\n",
    "- Lists are used to store multiple items in a single variable.\n",
    "\n",
    "- Lists are one of 4 built-in data types in Python used to store collections of data, the other 3 are Tuple, Set, and Dictionary, all with different qualities and usage.\n",
    "\n",
    "- Lists are created using square brackets: []\n",
    "- list items are ordered, changeable (mutable) and allow duplicate valus.\n",
    "- list items can be any data type, and can contain different data types."
   ]
  },
  {
   "cell_type": "code",
   "execution_count": 9,
   "metadata": {},
   "outputs": [
    {
     "name": "stdout",
     "output_type": "stream",
     "text": [
      "fruits = ['apple', 'banana', 'cherry', 'melon']\n",
      "len(fruits) = 4\n",
      "fruits.count('apple') = 1\n",
      "fruits = ['apple', 'banana', 'cherry', 'melon']\n",
      "['apple', 'banana', 'cherry', 'melon', 'pear', 'coconut', 'pineapple']\n"
     ]
    },
    {
     "data": {
      "text/plain": [
       "['apple', 'banana', 'cherry', 'melon', 'pear', 'coconut', 'pineapple']"
      ]
     },
     "execution_count": 9,
     "metadata": {},
     "output_type": "execute_result"
    }
   ],
   "source": [
    "fruits = [\"apple\", \"banana\", \"cherry\"]\n",
    "more_fruits = [\"pear\", \"coconut\", \"pineapple\"]\n",
    "\n",
    "fruits.append(\"melon\")\n",
    "print(f\"{fruits = }\")\n",
    "print(f\"{len(fruits) = }\")\n",
    "print(f\"{fruits.count('apple') = }\")\n",
    "\n",
    "print(f\"{fruits = }\")\n",
    "\n",
    "fruits += more_fruits # fruits.extend(more_fruits)\n",
    "\n",
    "print(fruits)\n",
    "\n",
    "\n",
    "fruits\n"
   ]
  },
  {
   "cell_type": "markdown",
   "metadata": {},
   "source": [
    "# indexering & slicing\n",
    "\n",
    "- list items are indexed, the first item has index[0], the second item has index [1]\n",
    "- make sure the index exists, or the program will crash with a index \"out of range\"\n",
    "- negative indexing: -1 refers to the last item. and -2 is the second etc\n",
    "- slicing: specifying range of indexes returns a new list with the specified items. [start:stop:step(optinal)]\n"
   ]
  },
  {
   "cell_type": "code",
   "execution_count": 18,
   "metadata": {},
   "outputs": [
    {
     "name": "stdout",
     "output_type": "stream",
     "text": [
      "fruits[0] = 'apple'\n",
      "fruits[2:5] = ['cherry', 'melon', 'pear']\n",
      "fruits[5:] = ['coconut', 'pineapple']\n",
      "fruits[:5] = ['apple', 'banana', 'cherry', 'melon', 'pear']\n",
      "fruits[:1] + fruits[-2:] = ['apple', 'coconut', 'pineapple']\n",
      "fruits[-3:] = ['pear', 'coconut', 'pineapple']\n",
      "fruits[1:7:2] = ['banana', 'melon', 'coconut']\n",
      "fruits[::2] = ['apple', 'cherry', 'pear', 'pineapple']\n"
     ]
    }
   ],
   "source": [
    "print(f\"{fruits[0] = }\")\n",
    "print(f\"{fruits[2:5] = }\")\n",
    "print(f\"{fruits[5:] = }\")\n",
    "print(f\"{fruits[:5] = }\")\n",
    "print(f\"{fruits[:1] + fruits[-2:] = }\")\n",
    "print(f\"{fruits[-3:] = }\")\n",
    "print(f\"{fruits[1:7:2] = }\")\n",
    "print(f\"{fruits[::2] = }\")"
   ]
  },
  {
   "cell_type": "markdown",
   "metadata": {},
   "source": [
    "# looping through a list"
   ]
  },
  {
   "cell_type": "code",
   "execution_count": 21,
   "metadata": {},
   "outputs": [
    {
     "name": "stdout",
     "output_type": "stream",
     "text": [
      "apple, banana, cherry, "
     ]
    }
   ],
   "source": [
    "for fruit in fruits[:-4]:\n",
    "    print(fruit, end=\", \")"
   ]
  },
  {
   "cell_type": "code",
   "execution_count": 23,
   "metadata": {},
   "outputs": [
    {
     "name": "stdout",
     "output_type": "stream",
     "text": [
      "0: apple\n",
      "1: banana\n",
      "2: cherry\n"
     ]
    }
   ],
   "source": [
    "counter = 0\n",
    "for fruit in fruits[:-4]:\n",
    "    print(f\"{counter}: {fruit}\")\n",
    "    counter += 1"
   ]
  },
  {
   "cell_type": "code",
   "execution_count": 26,
   "metadata": {},
   "outputs": [
    {
     "name": "stdout",
     "output_type": "stream",
     "text": [
      "0: ['apple', 'banana', 'cherry', 'melon', 'pear', 'coconut', 'pineapple']\n"
     ]
    }
   ],
   "source": [
    "for index, fruit in enumerate([fruits]):\n",
    "    print(f\"{index}: {fruit}\")"
   ]
  },
  {
   "cell_type": "markdown",
   "metadata": {},
   "source": [
    "# List comprehension\n",
    "\n",
    "- List comprehension offers a shorter syntax when you want to create a new list based on the values of an existing list.\n",
    "\n",
    "- Example:\n",
    "\n",
    "- Based on a list of fruits, you want a new list, containing only the fruits with the letter \"a\" in the name.\n",
    "\n",
    "- Without list comprehension you will have to write a for statement with a conditional test inside"
   ]
  },
  {
   "cell_type": "code",
   "execution_count": 1,
   "metadata": {},
   "outputs": [
    {
     "name": "stdout",
     "output_type": "stream",
     "text": [
      "['lila', 'rosa']\n"
     ]
    }
   ],
   "source": [
    "colors = []\n",
    "färger = [\"gul\", \"blå\", \"röd\", \"grön\", \"brun\", \"lila\", \"rosa\"]\n",
    "\n",
    "for x in färger:\n",
    "    if \"a\" in x:\n",
    "        colors.append(x)\n",
    "\n",
    "print(colors)"
   ]
  },
  {
   "cell_type": "code",
   "execution_count": 35,
   "metadata": {},
   "outputs": [
    {
     "name": "stdout",
     "output_type": "stream",
     "text": [
      "x = [0, 1, 2, 3, 4, 5, 6, 7, 8, 9]\n",
      "y = [0, 1, 4, 9, 16, 25, 36, 49, 64, 81]\n"
     ]
    }
   ],
   "source": [
    "x = list(range(10))\n",
    "print(f\"{x = }\")\n",
    "\n",
    "y = [item**2 for item in x]\n",
    "print(f\"{y = }\")"
   ]
  },
  {
   "cell_type": "code",
   "execution_count": 33,
   "metadata": {},
   "outputs": [
    {
     "name": "stdout",
     "output_type": "stream",
     "text": [
      "['lila', 'rosa']\n"
     ]
    }
   ],
   "source": [
    "färger = [\"gul\", \"blå\", \"röd\", \"grön\", \"brun\", \"lila\", \"rosa\"]\n",
    "\n",
    "colors = [x for x in färger if \"a\" in x]\n",
    "\n",
    "print(colors)"
   ]
  },
  {
   "cell_type": "markdown",
   "metadata": {},
   "source": [
    "# Mini uppgift 1"
   ]
  },
  {
   "cell_type": "code",
   "execution_count": 4,
   "metadata": {},
   "outputs": [
    {
     "name": "stdout",
     "output_type": "stream",
     "text": [
      "inte en färg\n",
      "['gul', 'rosa', 'röd', 'brun']\n",
      "4\n"
     ]
    }
   ],
   "source": [
    "colors = []\n",
    "färger = [\"gul\", \"blå\", \"röd\", \"grön\", \"brun\", \"lila\", \"rosa\"]\n",
    "\n",
    "while True:\n",
    "    color = input(\"add a color to the list or press enter to end\")\n",
    "\n",
    "    if not color:\n",
    "        break\n",
    "\n",
    "    if color not in färger:\n",
    "        print(\"inte en färg\")\n",
    "        continue\n",
    "\n",
    "    colors.append(color)\n",
    "\n",
    "print(colors)\n",
    "print(f\"{len(empty_list)}\")\n",
    "\n"
   ]
  },
  {
   "cell_type": "code",
   "execution_count": 5,
   "metadata": {},
   "outputs": [
    {
     "name": "stdout",
     "output_type": "stream",
     "text": [
      "['röd', 'blue', 'gul']\n",
      "4\n"
     ]
    }
   ],
   "source": [
    "colors = []\n",
    "\n",
    "while (color := input(\"add color\")) and color != \"\":\n",
    "    colors.append(color)\n",
    "\n",
    "print(colors)\n",
    "print(f\"{len(empty_list)}\")"
   ]
  },
  {
   "cell_type": "markdown",
   "metadata": {},
   "source": [
    "# Mini uppgift 2\n",
    "\n",
    "- skapa manuellt en lista i koden med 5 fruker\n",
    "- använd list comprehension för att skapa en ny lista med samma frukter, men med ett utropstecken i slutet av varje frukt(sträng)\n"
   ]
  },
  {
   "cell_type": "code",
   "execution_count": 38,
   "metadata": {},
   "outputs": [
    {
     "name": "stdout",
     "output_type": "stream",
     "text": [
      "new_fruit = ['apple!', 'pear!', 'banana!', 'orange!', 'kiwi!']\n"
     ]
    }
   ],
   "source": [
    "fruits = [\"apple\", \"pear\", \"banana\", \"orange\", \"kiwi\"]\n",
    "new_fruit = [fruit + \"!\" for fruit in fruits]\n",
    "print(f\"{new_fruit = }\")"
   ]
  },
  {
   "cell_type": "markdown",
   "metadata": {},
   "source": [
    "## Mini upgift 3\n",
    "- skapa en list med alla heltal från 0 - 100. skapa en ny lista som innehåller från den första listan."
   ]
  },
  {
   "cell_type": "code",
   "execution_count": 67,
   "metadata": {},
   "outputs": [
    {
     "name": "stdout",
     "output_type": "stream",
     "text": [
      "[1, 3, 5, 7, 9, 11, 13, 15, 17, 19, 21, 23, 25, 27, 29, 31, 33, 35, 37, 39, 41, 43, 45, 47, 49, 51, 53, 55, 57, 59, 61, 63, 65, 67, 69, 71, 73, 75, 77, 79, 81, 83, 85, 87, 89, 91, 93, 95, 97, 99]\n"
     ]
    }
   ],
   "source": [
    "numbers = list(range(1, 101))\n",
    "\n",
    "new_numbers = [number for number in numbers if number % 2 == 1]\n",
    "print(f\"{new_numbers}\")"
   ]
  },
  {
   "cell_type": "code",
   "execution_count": 66,
   "metadata": {},
   "outputs": [
    {
     "name": "stdout",
     "output_type": "stream",
     "text": [
      "new_fruit = ['apple!', 'pear!', 'kiwi!']\n"
     ]
    }
   ],
   "source": [
    "fruits = [\"apple\", \"pear\", \"banana\", \"orange\", \"kiwi\"]\n",
    "new_fruit = [fruit + \"!\" for fruit in fruits if len(fruit) <= 5]\n",
    "print(f\"{new_fruit = }\")"
   ]
  }
 ],
 "metadata": {
  "kernelspec": {
   "display_name": "Python 3",
   "language": "python",
   "name": "python3"
  },
  "language_info": {
   "codemirror_mode": {
    "name": "ipython",
    "version": 3
   },
   "file_extension": ".py",
   "mimetype": "text/x-python",
   "name": "python",
   "nbconvert_exporter": "python",
   "pygments_lexer": "ipython3",
   "version": "3.11.5"
  },
  "orig_nbformat": 4
 },
 "nbformat": 4,
 "nbformat_minor": 2
}
