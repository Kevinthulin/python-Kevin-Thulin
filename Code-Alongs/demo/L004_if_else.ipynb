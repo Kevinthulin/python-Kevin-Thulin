{
 "cells": [
  {
   "cell_type": "markdown",
   "metadata": {},
   "source": [
    "# If statments\n",
    "- **if** - essential part of if-statement\n",
    "- **elif** - Zero, one or more elif\n",
    "- **else** - Zero or one"
   ]
  },
  {
   "cell_type": "code",
   "execution_count": 5,
   "metadata": {},
   "outputs": [
    {
     "name": "stdout",
     "output_type": "stream",
     "text": [
      "why not\n"
     ]
    }
   ],
   "source": [
    "x = 50\n",
    "name = \"Kalle\"\n",
    "\n",
    "if x < 10 or name == \"Fredrik\":\n",
    "    print(\"yes\")\n",
    "elif name == \"kalle\":\n",
    "    print(\"Hello Kalle\")\n",
    "else:\n",
    "    print(\"why not\")\n"
   ]
  },
  {
   "cell_type": "markdown",
   "metadata": {},
   "source": [
    "# Ternary operator\n",
    "- a special operator that take three operands and returns one of those choices depedning on if the middle expression evaluate true or flase\n"
   ]
  },
  {
   "cell_type": "code",
   "execution_count": 8,
   "metadata": {},
   "outputs": [
    {
     "name": "stdout",
     "output_type": "stream",
     "text": [
      "Fredrik Johansson\n",
      "Please wait 1 second\n"
     ]
    }
   ],
   "source": [
    "name = \"Fredrik\"\n",
    "lastName = \"Johansson\" if name == \"Fredrik\" else \"???\"\n",
    "\n",
    "print(f\"{name} {lastName}\")\n",
    "\n",
    "seconds = 1\n",
    "print(f\"Please wait {seconds} second{'s' if seconds != 1 else ''}\")"
   ]
  }
 ],
 "metadata": {
  "kernelspec": {
   "display_name": "Python 3",
   "language": "python",
   "name": "python3"
  },
  "language_info": {
   "codemirror_mode": {
    "name": "ipython",
    "version": 3
   },
   "file_extension": ".py",
   "mimetype": "text/x-python",
   "name": "python",
   "nbconvert_exporter": "python",
   "pygments_lexer": "ipython3",
   "version": "3.11.5"
  },
  "orig_nbformat": 4
 },
 "nbformat": 4,
 "nbformat_minor": 2
}
