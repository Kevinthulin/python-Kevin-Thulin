{
 "cells": [
  {
   "cell_type": "markdown",
   "metadata": {},
   "source": [
    " # Data types\n",
    " - **String** (text)\n",
    " - **int** (heltal)\n",
    " - **float** (decimaltal)\n",
    " - **bool** (boolean, True/false)"
   ]
  },
  {
   "cell_type": "code",
   "execution_count": 2,
   "metadata": {},
   "outputs": [
    {
     "name": "stdout",
     "output_type": "stream",
     "text": [
      "fredrik\n",
      "8\n",
      "1.14\n",
      "True\n"
     ]
    }
   ],
   "source": [
    "name = \"fredrik\"\n",
    "print(name)\n",
    "\n",
    "name = 8\n",
    "print(name)\n",
    "\n",
    "myFloat = 1.14\n",
    "print(myFloat)\n",
    "\n",
    "myBool = True\n",
    "print(myBool)"
   ]
  },
  {
   "cell_type": "markdown",
   "metadata": {},
   "source": [
    "# Literal values\n",
    "- \"hello\" **string** case-sensetive\n",
    "- 5 - **int**\n",
    "- 4.5 - **float**\n",
    "- True - **bool** can be true of false"
   ]
  },
  {
   "cell_type": "markdown",
   "metadata": {},
   "source": [
    "# Variables\n",
    "- Case-sensetive\n",
    "- created when first assinged, dosen't need to be declared.\n",
    "- Dynamic typing, type is referred from assignment, can be re-typed.\n",
    "- Cast type with: str(), int(), float(), bool()\n",
    "- use del to delete variables"
   ]
  },
  {
   "cell_type": "code",
   "execution_count": null,
   "metadata": {},
   "outputs": [],
   "source": [
    "myNumber = \"56\"\n",
    "myNumber2 = int(myNumber)\n",
    "print(myNumber2 + 2)\n",
    "\n",
    "print(type(myNumber2))\n",
    "print(type(myNumber))\n",
    "\n"
   ]
  },
  {
   "cell_type": "markdown",
   "metadata": {},
   "source": [
    "# Operators\n",
    "- In mathematics and computer programming, an operator is a character that represents a specific mathematical or logical action or process."
   ]
  },
  {
   "cell_type": "markdown",
   "metadata": {},
   "source": [
    "## Arimetic operators\n",
    "- addition \n",
    "- subtraction -\n",
    "- multiplication *\n",
    "- Divison /\n",
    "- floor division //\n",
    "- modulus %\n",
    "- Exponentiation **"
   ]
  },
  {
   "cell_type": "markdown",
   "metadata": {},
   "source": [
    "# Comparison operator\n",
    "- Equal ==\n",
    "- Not equal !=\n",
    "- Greater than >\n",
    "- Less than <\n",
    "- less or equal <=\n",
    "- Greater ot equal =>"
   ]
  },
  {
   "cell_type": "code",
   "execution_count": 6,
   "metadata": {},
   "outputs": [
    {
     "name": "stdout",
     "output_type": "stream",
     "text": [
      "True\n"
     ]
    }
   ],
   "source": [
    "x = 15\n",
    "\n",
    "print(10 < x < 20)"
   ]
  },
  {
   "cell_type": "markdown",
   "metadata": {},
   "source": [
    "# Logical operators\n",
    "- and (true if both are ture)\n",
    "- or (true if one or both are true)\n",
    "- not (true if false, false if true)"
   ]
  },
  {
   "cell_type": "code",
   "execution_count": 5,
   "metadata": {},
   "outputs": [
    {
     "name": "stdout",
     "output_type": "stream",
     "text": [
      "True\n",
      "True\n",
      "True\n",
      "False\n"
     ]
    }
   ],
   "source": [
    "print(True and True)\n",
    "print(True or False)\n",
    "print(not False)\n",
    "\n",
    "print(5 == 5 and 7 == 8)"
   ]
  },
  {
   "cell_type": "markdown",
   "metadata": {},
   "source": [
    "# Operator precedence\n"
   ]
  },
  {
   "cell_type": "markdown",
   "metadata": {},
   "source": [
    "# Memership operators\n",
    "\n",
    "- in and not in"
   ]
  },
  {
   "cell_type": "code",
   "execution_count": 4,
   "metadata": {},
   "outputs": [
    {
     "name": "stdout",
     "output_type": "stream",
     "text": [
      "True\n",
      "True\n"
     ]
    }
   ],
   "source": [
    "färger = [\"gul\", \"blå\", \"röd\", \"grön\", \"brun\", \"lila\", \"rosa\"]\n",
    "print(f\"{'orange' not in färger}\")\n",
    "print(f\"{'gul' in färger}\")"
   ]
  }
 ],
 "metadata": {
  "kernelspec": {
   "display_name": "Python 3",
   "language": "python",
   "name": "python3"
  },
  "language_info": {
   "codemirror_mode": {
    "name": "ipython",
    "version": 3
   },
   "file_extension": ".py",
   "mimetype": "text/x-python",
   "name": "python",
   "nbconvert_exporter": "python",
   "pygments_lexer": "ipython3",
   "version": "3.11.5"
  },
  "orig_nbformat": 4
 },
 "nbformat": 4,
 "nbformat_minor": 2
}
