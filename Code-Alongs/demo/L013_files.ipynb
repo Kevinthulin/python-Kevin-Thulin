{
 "cells": [
  {
   "cell_type": "markdown",
   "metadata": {},
   "source": [
    "# Load and save data to files\n",
    "We can catogorize files into 2 main categories, text files,and binary files\n",
    "- text files stores text / characters in a human readable format\n",
    "- binary files stores byte data (1's and 0's) that only computers understand\n",
    "\n",
    "## Common text based files to store data\n",
    "\n",
    "- **.txt** plain english (or other languages) text\n",
    "- **.csvd** comma separated values\n",
    "- **.json** \n",
    "\n",
    "## File names and file paths\n",
    "\n",
    "A file name is usually has two parts. the name and the file extenstion, separated with a dot (name.extension)\n",
    "\n",
    "e.g. hello.txt, data.json. myimage.jpg\n",
    "\n",
    "paths can be expressed as either realtive or absolute\n",
    "**Absolute:** Full path to access a file or folder. ex. c:\\users\\Kevin\\desktop\\\n",
    "**Relative:** Relative from current active folder: data\\data.json\n",
    "\n",
    "\n",
    "## File modes\n",
    "it's possiable to open a file in python in different modes:\n",
    "\n",
    "- **r** for reading\n",
    "- **w** for writing (overwrites everything)\n",
    "- **a** for appending (also writing  )"
   ]
  },
  {
   "cell_type": "code",
   "execution_count": 10,
   "metadata": {},
   "outputs": [
    {
     "name": "stdout",
     "output_type": "stream",
     "text": [
      "Tjena mitt bena\n"
     ]
    }
   ],
   "source": [
    "file = open(\"..\\..\\Data\\hello.txt\")\n",
    "\n",
    "content = file.read()\n",
    "\n",
    "print(content)"
   ]
  },
  {
   "cell_type": "code",
   "execution_count": 12,
   "metadata": {},
   "outputs": [
    {
     "data": {
      "text/plain": [
       "<function TextIOWrapper.close()>"
      ]
     },
     "execution_count": 12,
     "metadata": {},
     "output_type": "execute_result"
    }
   ],
   "source": [
    "file = open(\"..\\..\\Data\\hello.txt\", \"w\")\n",
    "\n",
    "new_content = input(\"enter text:\")\n",
    "\n",
    "file.write(new_content + '\\n')\n",
    "\n",
    "file.close()"
   ]
  },
  {
   "cell_type": "code",
   "execution_count": 43,
   "metadata": {},
   "outputs": [
    {
     "name": "stdout",
     "output_type": "stream",
     "text": [
      "['kevin', 'johan', 'pelle', 'anton']\n",
      "names have been saved\n"
     ]
    }
   ],
   "source": [
    "with open(\"..\\\\..\\\\data\\\\hello.txt\", 'r') as f:\n",
    "    names = [name.strip() for name in f.readlines()]\n",
    "\n",
    "namn_list = []\n",
    "\n",
    "\n",
    "while True:\n",
    "    user_input = input(\"Mata in namn du vill spara: eller tom rad för att avsluta\")\n",
    "    if user_input == \"\":\n",
    "        break\n",
    "    namn_list.append(user_input)\n",
    "\n",
    "\n",
    "\n",
    "print(namn_list)\n",
    "\n",
    "all_names = names + namn_list\n",
    "all_name_str = ',\\n'.join(namn_list)\n",
    "\n",
    "\n",
    "with open(\"..\\\\..\\\\data\\\\hello.txt\", 'w') as f:\n",
    "    f.write(f\"{all_names}\\n\")\n",
    "\n",
    "print(\"names have been saved\")"
   ]
  },
  {
   "cell_type": "markdown",
   "metadata": {},
   "source": [
    "## Write .CSV file"
   ]
  },
  {
   "cell_type": "code",
   "execution_count": 32,
   "metadata": {},
   "outputs": [
    {
     "name": "stdout",
     "output_type": "stream",
     "text": [
      "[{'name': 'adam', 'class': 'AI23', 'email': 'Adam@hotmail.com'}, {'name': 'adam', 'class': 'AI23', 'email': 'Adam@hotmail.com'}, {'name': 'adam', 'class': 'AI23', 'email': 'Adam@hotmail.com'}, {'name': 'adam', 'class': 'AI23', 'email': 'Adam@hotmail.com'}]\n"
     ]
    }
   ],
   "source": [
    "students = [\n",
    "    {\"name\": \"adam\", \"class\": \"AI23\", \"email\": \"Adam@hotmail.com\"},\n",
    "    {\"name\": \"adam\", \"class\": \"AI23\", \"email\": \"Adam@hotmail.com\"},\n",
    "    {\"name\": \"adam\", \"class\": \"AI23\", \"email\": \"Adam@hotmail.com\"},\n",
    "    {\"name\": \"adam\", \"class\": \"AI23\", \"email\": \"Adam@hotmail.com\"},\n",
    "]\n",
    "\n",
    "print(students)\n",
    "\n",
    "with open(\"..\\\\..\\\\data\\\\student.csv\", \"w\") as file:\n",
    "    for student in students:\n",
    "        file.write(f\"{student['name'], student['class']}\\n\")"
   ]
  },
  {
   "cell_type": "markdown",
   "metadata": {},
   "source": [
    "## Json serialization deserialization\n"
   ]
  },
  {
   "cell_type": "code",
   "execution_count": null,
   "metadata": {},
   "outputs": [],
   "source": []
  }
 ],
 "metadata": {
  "kernelspec": {
   "display_name": "Python 3",
   "language": "python",
   "name": "python3"
  },
  "language_info": {
   "codemirror_mode": {
    "name": "ipython",
    "version": 3
   },
   "file_extension": ".py",
   "mimetype": "text/x-python",
   "name": "python",
   "nbconvert_exporter": "python",
   "pygments_lexer": "ipython3",
   "version": "3.11.5"
  },
  "orig_nbformat": 4
 },
 "nbformat": 4,
 "nbformat_minor": 2
}
