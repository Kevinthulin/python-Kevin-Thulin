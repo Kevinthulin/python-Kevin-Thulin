{
 "cells": [
  {
   "cell_type": "markdown",
   "metadata": {},
   "source": [
    "# Properties (sing. property, ev . Engelska)\n",
    "- A porperty is a python construction (or OOP concept) that works similar to an attribute, with the difference tht an attribute stores (and reads) the value to memory, While a property uses getter and swtter methods to change the values of the property.\n",
    "\n",
    "- from the \"outside\" (of the class definition) when a property of an object is set, the objects internal setter method will be called to handle the operation. this method is makred in the class definition by decorator called {name}.setter (where \"name is the name of the property)\n",
    "\n",
    "- When the propert is read (from the outside \"outside\"), the objects internal getter method will be aclled to return a vlue. the getter method is marked in the class definition by a decorator caleed @property"
   ]
  },
  {
   "cell_type": "code",
   "execution_count": 15,
   "metadata": {},
   "outputs": [],
   "source": [
    "class Employee:\n",
    "    def __init__(self, name, salary):\n",
    "        self.name = name\n",
    "        self._salary = 0 if salary < 0 else salary\n",
    "        \n",
    "    @property\n",
    "    def salary(self):\n",
    "        return self._salary\n",
    "        \n",
    "    @salary.setter\n",
    "    def salary(self, salary):\n",
    "        self._salary = 0 if salary < 0 else salary\n",
    "        \n",
    "\n",
    "        "
   ]
  },
  {
   "cell_type": "code",
   "execution_count": 16,
   "metadata": {},
   "outputs": [
    {
     "name": "stdout",
     "output_type": "stream",
     "text": [
      "40000\n"
     ]
    }
   ],
   "source": [
    "employee = Employee(\"anders\", 40000)\n",
    "employee2 = Employee(\"Lars\", -40000)\n",
    "\n",
    "employee.salary = 5000\n",
    "print(employee.salary)\n",
    "\n",
    "# employee.set_salary(50000)\n",
    "# employee2.set_salary(-50000)\n",
    "\n",
    "# print(employee.get_salary())\n",
    "# print(employee2.get_salary())"
   ]
  },
  {
   "cell_type": "code",
   "execution_count": 1,
   "metadata": {},
   "outputs": [
    {
     "name": "stdout",
     "output_type": "stream",
     "text": [
      "Kevin, Hello World\n",
      "Hello World 54\n"
     ]
    }
   ],
   "source": [
    "class Person:\n",
    "    def __init__(self, firstname, lastname, age):\n",
    "        self.firstname = firstname\n",
    "        self.lastname = lastname\n",
    "        self.age = age\n",
    "        \n",
    "    @property\n",
    "    def lastname(self):\n",
    "        return \"Hello World\"\n",
    "    \n",
    "    @lastname.setter\n",
    "    def lastname(self, name):\n",
    "        self._lastname = name\n",
    "    @property   \n",
    "    def age(self):\n",
    "        return self._age\n",
    "    \n",
    "    @age.setter\n",
    "    def age(self, age):\n",
    "        if age < 0:\n",
    "            self._age = 0\n",
    "        elif age > 100:\n",
    "            self._age = 100\n",
    "        else:\n",
    "            self._age = age\n",
    "            \n",
    "        \n",
    "person = Person(\"Kevin\", \"Thulin\", 23)\n",
    "person.age = 54\n",
    "\n",
    "print(person.firstname, person.lastname, sep=\", \")\n",
    "print(person.lastname, person.age)"
   ]
  },
  {
   "cell_type": "code",
   "execution_count": null,
   "metadata": {},
   "outputs": [],
   "source": []
  }
 ],
 "metadata": {
  "kernelspec": {
   "display_name": "python-Kevin-Thulin-bLONqi7_",
   "language": "python",
   "name": "python3"
  },
  "language_info": {
   "codemirror_mode": {
    "name": "ipython",
    "version": 3
   },
   "file_extension": ".py",
   "mimetype": "text/x-python",
   "name": "python",
   "nbconvert_exporter": "python",
   "pygments_lexer": "ipython3",
   "version": "3.11.5"
  },
  "orig_nbformat": 4
 },
 "nbformat": 4,
 "nbformat_minor": 2
}
