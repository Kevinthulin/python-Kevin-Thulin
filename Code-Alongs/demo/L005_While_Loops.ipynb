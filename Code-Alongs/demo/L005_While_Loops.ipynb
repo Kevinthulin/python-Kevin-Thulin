{
 "cells": [
  {
   "cell_type": "markdown",
   "metadata": {},
   "source": [
    "# Loops\n",
    "- python has two primitive loop commands:\n",
    "- While loops\n",
    "- For loops"
   ]
  },
  {
   "cell_type": "markdown",
   "metadata": {},
   "source": [
    "## The While Loop\n",
    "\n",
    "- Executes a set of statments as long as a condition is true"
   ]
  },
  {
   "cell_type": "code",
   "execution_count": 5,
   "metadata": {},
   "outputs": [
    {
     "name": "stdout",
     "output_type": "stream",
     "text": [
      "10: hello World\n",
      " 7: hello World\n",
      " 4: hello World\n",
      " 1: hello World\n",
      "end.\n"
     ]
    }
   ],
   "source": [
    "counter = 10\n",
    "\n",
    "while counter > 0:\n",
    "    print(f\"{counter:2d}: hello World\")\n",
    "    counter -= 3\n",
    "else:\n",
    "    print(\"end.\")\n",
    "\n"
   ]
  },
  {
   "cell_type": "markdown",
   "metadata": {},
   "source": [
    "# The break statment\n",
    "- used to stop the loop immedietly\n"
   ]
  },
  {
   "cell_type": "code",
   "execution_count": 4,
   "metadata": {},
   "outputs": [
    {
     "name": "stdout",
     "output_type": "stream",
     "text": [
      "10: Hello World\n",
      " 9: Hello World\n",
      " 8: Hello World\n",
      " 7: Hello World\n",
      " 6: Hello World\n",
      " 5: Hello World\n",
      " 4: Hello World\n",
      " 3: Hello World\n",
      " 2: Hello World\n",
      " 1: Hello World\n",
      "end\n"
     ]
    }
   ],
   "source": [
    "counter = 10\n",
    "\n",
    "while True:\n",
    "    print(f\"{counter:2d}: Hello World\")\n",
    "    counter -= 1\n",
    "    if counter <= 0: \n",
    "        break\n",
    "\n",
    "print(\"end\")"
   ]
  },
  {
   "cell_type": "markdown",
   "metadata": {},
   "source": [
    "## The continue statment\n",
    "- Used to stop the current iteration of the loop and continue with the next"
   ]
  },
  {
   "cell_type": "code",
   "execution_count": 7,
   "metadata": {},
   "outputs": [
    {
     "name": "stdout",
     "output_type": "stream",
     "text": [
      "1\n",
      "2\n",
      "3\n",
      "dont print this\n",
      "4\n",
      "dont print this\n",
      "5\n",
      "dont print this\n",
      "End.\n"
     ]
    }
   ],
   "source": [
    "counter = 0\n",
    "while counter < 5:\n",
    "    counter += 1\n",
    "    print(counter)\n",
    "    if (counter < 3): continue\n",
    "    print(\"dont print this\")\n",
    "\n",
    "print(\"End.\")"
   ]
  },
  {
   "cell_type": "markdown",
   "metadata": {},
   "source": [
    "## The else statement\n",
    "- used to specify a block of code to be executed when the loop is finished.\n",
    "- **Note:** the else block will Not be executed if the loop is stopped by a break statement"
   ]
  },
  {
   "cell_type": "code",
   "execution_count": 8,
   "metadata": {},
   "outputs": [
    {
     "name": "stdout",
     "output_type": "stream",
     "text": [
      "10: hello World\n",
      " 7: hello World\n",
      " 4: hello World\n",
      " 1: hello World\n",
      "end.\n"
     ]
    }
   ],
   "source": [
    "counter = 10\n",
    "\n",
    "while counter > 0:\n",
    "    print(f\"{counter:2d}: hello World\")\n",
    "    counter -= 3\n",
    "    # break\n",
    "else:\n",
    "    print(\"end.\")"
   ]
  }
 ],
 "metadata": {
  "kernelspec": {
   "display_name": "Python 3",
   "language": "python",
   "name": "python3"
  },
  "language_info": {
   "codemirror_mode": {
    "name": "ipython",
    "version": 3
   },
   "file_extension": ".py",
   "mimetype": "text/x-python",
   "name": "python",
   "nbconvert_exporter": "python",
   "pygments_lexer": "ipython3",
   "version": "3.11.5"
  },
  "orig_nbformat": 4
 },
 "nbformat": 4,
 "nbformat_minor": 2
}
