{
 "cells": [
  {
   "cell_type": "markdown",
   "metadata": {},
   "source": [
    "# f-string (Formatted string literals)\n",
    "- literal stats with f or F.\n",
    "- variables or expressions can be inserted using {}\n",
    "- use = after expression to print expression and result(not only result)\n",
    "- quotes can be used inside expression as long as they differ from the quotetype of the f-string\n",
    "- For padding and aligmentm use ** :{padding character(default space)}{aligment}{width}\n",
    "- Alignments: left <, center ^, right >. Default aligments left for string, right for nemerics\n",
    "- data type: add data type after padding and aligment eg: x:<20.2f\n",
    "- data type formats: Fixed.point notation (f), Exponent notation (e), percentage(%), (default precision is 6)\n",
    "- Use coma for thousands separation eg: (1000:,) or (1000:,.2f)\n"
   ]
  },
  {
   "cell_type": "code",
   "execution_count": 20,
   "metadata": {},
   "outputs": [
    {
     "name": "stdout",
     "output_type": "stream",
     "text": [
      "hello asd       !\n",
      "5+8=13\n",
      "Hej 'Kevin'. \n",
      "3.00                \n",
      "0.78\n",
      "7.80e-01\n",
      "78.000000%\n",
      "10,000.00\n"
     ]
    }
   ],
   "source": [
    "name = input(\"enter your name\")\n",
    "myString = f\"hello {name:10}!\"\n",
    "print(myString)\n",
    "\n",
    "print(f\"{5+8=}\")\n",
    "\n",
    "print(f\"Hej 'Kevin'. \")\n",
    "\n",
    "print(f\"{3:<20.2f}\")\n",
    "print(f\"{0.78:.2f}\")\n",
    "print(f\"{0.78:.2e}\")\n",
    "print(f\"{0.78:%}\")\n",
    "print(f\"{10000:,.2f}\")\n"
   ]
  },
  {
   "cell_type": "code",
   "execution_count": 18,
   "metadata": {},
   "outputs": [
    {
     "name": "stdout",
     "output_type": "stream",
     "text": [
      "kevkoz              COOL GUT BOG BAOZz\n"
     ]
    }
   ],
   "source": [
    "first_name = \"kevkoz\"\n",
    "second_Name = \"COOL GUT BOG BAOZz\"\n",
    "\n",
    "print(f\"{first_name:<20}{second_Name}\")"
   ]
  }
 ],
 "metadata": {
  "kernelspec": {
   "display_name": "Python 3",
   "language": "python",
   "name": "python3"
  },
  "language_info": {
   "codemirror_mode": {
    "name": "ipython",
    "version": 3
   },
   "file_extension": ".py",
   "mimetype": "text/x-python",
   "name": "python",
   "nbconvert_exporter": "python",
   "pygments_lexer": "ipython3",
   "version": "3.11.5"
  },
  "orig_nbformat": 4
 },
 "nbformat": 4,
 "nbformat_minor": 2
}
