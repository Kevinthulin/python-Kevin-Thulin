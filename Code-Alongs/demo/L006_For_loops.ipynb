{
 "cells": [
  {
   "cell_type": "markdown",
   "metadata": {},
   "source": [
    "# For loops\n",
    "- a for loop is used for iterating over a sequence. (example: alist, a string, a dictionary or a range)\n",
    "\n",
    "- this is less like the for keyword in other programming langugages, and works more like an iterator method as found in other objects oriented programming languges (ex. c# for each)"
   ]
  },
  {
   "cell_type": "code",
   "execution_count": 4,
   "metadata": {},
   "outputs": [
    {
     "name": "stdout",
     "output_type": "stream",
     "text": [
      "Fredrik\n",
      "Camilla\n",
      "Kevin\n",
      "Adam\n",
      "Erik\n"
     ]
    }
   ],
   "source": [
    "names = [\"Fredrik\", \"Camilla\", \"Kevin\", \"Adam\", \"Erik\"]\n",
    "\n",
    "for name in names:\n",
    "    print(name)"
   ]
  },
  {
   "cell_type": "code",
   "execution_count": 5,
   "metadata": {},
   "outputs": [
    {
     "name": "stdout",
     "output_type": "stream",
     "text": [
      "using only stop value(start defaults to zero)\n",
      "0\n",
      "1\n",
      "2\n",
      "\n",
      " using start stop and step values (start is inclusive and stop is exclusive)\n",
      "10\n",
      "11\n",
      "12\n",
      "\n",
      " using start stop and values (step defaults to 1)\n",
      "10\n",
      "11\n",
      "12\n",
      "\n",
      " can also count reversed using a negative step value\n",
      "20\n",
      "17\n",
      "14\n",
      "11\n"
     ]
    }
   ],
   "source": [
    "print(\"using only stop value(start defaults to zero)\")\n",
    "for i in range(3):\n",
    "    print(i)\n",
    "\n",
    "print(\"\\n using start stop and step values (start is inclusive and stop is exclusive)\")\n",
    "for i in range(10, 13):\n",
    "    print(i)\n",
    "\n",
    "print(\"\\n using start stop and values (step defaults to 1)\")\n",
    "for i in range(10, 13):\n",
    "    print(i)\n",
    "\n",
    "print(\"\\n can also count reversed using a negative step value\")\n",
    "for i in range(20, 10, -3):\n",
    "    print(i)"
   ]
  },
  {
   "cell_type": "markdown",
   "metadata": {},
   "source": [
    "## Like while loops, for loops can also use the following statements\n",
    "- continue\n",
    "- break\n",
    "- else"
   ]
  },
  {
   "cell_type": "markdown",
   "metadata": {},
   "source": [
    "## Nested loops\n",
    "- a loop within a loop\n"
   ]
  },
  {
   "cell_type": "code",
   "execution_count": 9,
   "metadata": {},
   "outputs": [
    {
     "name": "stdout",
     "output_type": "stream",
     "text": [
      "00000\n",
      "11111\n",
      "22222\n"
     ]
    }
   ],
   "source": [
    "for y in range(3):\n",
    "    for x in range(5):\n",
    "        print(y, end=\"\")\n",
    "    print()\n"
   ]
  }
 ],
 "metadata": {
  "kernelspec": {
   "display_name": "Python 3",
   "language": "python",
   "name": "python3"
  },
  "language_info": {
   "codemirror_mode": {
    "name": "ipython",
    "version": 3
   },
   "file_extension": ".py",
   "mimetype": "text/x-python",
   "name": "python",
   "nbconvert_exporter": "python",
   "pygments_lexer": "ipython3",
   "version": "3.11.5"
  },
  "orig_nbformat": 4
 },
 "nbformat": 4,
 "nbformat_minor": 2
}
