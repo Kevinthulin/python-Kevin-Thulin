{
 "cells": [
  {
   "cell_type": "markdown",
   "metadata": {},
   "source": [
    "## Functions\n",
    "\n",
    "- A function is a block of code that is only runs when its aclled\n",
    "- in python a function is defined using the def key\n",
    "- definition must come before the call\n",
    "- to call a function, use the function followed bt paranthesis\n",
    "- you must pass data, kown as argments into a function\n",
    "- the number of arguments when calling must normally must normally match number of parameters of definition\n",
    "- a function may return as a result\n"
   ]
  },
  {
   "cell_type": "code",
   "execution_count": 7,
   "metadata": {},
   "outputs": [
    {
     "name": "stdout",
     "output_type": "stream",
     "text": [
      "Hello Kevin!\n",
      "Hello johan!\n",
      "Hello tony!\n",
      "Hello mark!\n"
     ]
    }
   ],
   "source": [
    "def greeting(name):\n",
    "    print(\"Hello \" + name + \"!\")\n",
    "\n",
    "def gree_people(people):\n",
    "    for person in people:\n",
    "        greeting(person)\n",
    "\n",
    "people = [\"Kevin\", \"johan\", \"tony\", \"mark\"]   \n",
    "\n",
    "gree_people(people)\n",
    "\n",
    "\n"
   ]
  },
  {
   "cell_type": "markdown",
   "metadata": {},
   "source": [
    "## Example of function returning a value"
   ]
  },
  {
   "cell_type": "code",
   "execution_count": 14,
   "metadata": {},
   "outputs": [
    {
     "name": "stdout",
     "output_type": "stream",
     "text": [
      "Hello Kevin!\n",
      "Hello anders!\n"
     ]
    }
   ],
   "source": [
    "def get_greeting(name):\n",
    "    greeting = \"Hello \" + name + \"!\"\n",
    "\n",
    "    if name == \"anus\":\n",
    "        return name\n",
    "    else:\n",
    "        return greeting\n",
    "\n",
    "\n",
    "print(get_greeting(\"Kevin\"))\n",
    "\n",
    "my_greeting = get_greeting(\"anders\")\n",
    "print(my_greeting)"
   ]
  }
 ],
 "metadata": {
  "kernelspec": {
   "display_name": "Python 3",
   "language": "python",
   "name": "python3"
  },
  "language_info": {
   "codemirror_mode": {
    "name": "ipython",
    "version": 3
   },
   "file_extension": ".py",
   "mimetype": "text/x-python",
   "name": "python",
   "nbconvert_exporter": "python",
   "pygments_lexer": "ipython3",
   "version": "3.11.5"
  },
  "orig_nbformat": 4
 },
 "nbformat": 4,
 "nbformat_minor": 2
}
