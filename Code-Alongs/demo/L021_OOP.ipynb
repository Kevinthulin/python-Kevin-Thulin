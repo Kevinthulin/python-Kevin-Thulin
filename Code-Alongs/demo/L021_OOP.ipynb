{
 "cells": [
  {
   "cell_type": "markdown",
   "metadata": {},
   "source": [
    "# Object oriented programming (OOP)\n",
    "- A \"class\" is a blue print that can be used to create objects\n",
    "- An \"instance\" is the acually object containing data abd nethods"
   ]
  },
  {
   "cell_type": "code",
   "execution_count": 1,
   "metadata": {},
   "outputs": [],
   "source": [
    "students_a = [\"Kevin\", \"Thulin\", 26, \"A\"]\n",
    "students_b = [\"Adam\", \"Nestle\", 23, \"A\"]\n",
    "students_c = [\"Abraham\", \"Lincon\", 21, \"B\"]\n",
    "\n",
    "students = [students_a, students_c, students_b]\n",
    "\n",
    "def set_grade(student, grade):\n",
    "    student[3] = grade"
   ]
  },
  {
   "cell_type": "code",
   "execution_count": 1,
   "metadata": {},
   "outputs": [
    {
     "ename": "TypeError",
     "evalue": "'dict' object is not callable",
     "output_type": "error",
     "traceback": [
      "\u001b[1;31m---------------------------------------------------------------------------\u001b[0m",
      "\u001b[1;31mTypeError\u001b[0m                                 Traceback (most recent call last)",
      "Cell \u001b[1;32mIn[1], line 14\u001b[0m\n\u001b[0;32m     11\u001b[0m     \u001b[39mreturn\u001b[39;00m \u001b[39mf\u001b[39m\u001b[39m'\u001b[39m\u001b[39m{\u001b[39;00mstudent[\u001b[39m\"\u001b[39m\u001b[39mfirstname\u001b[39m\u001b[39m\"\u001b[39m]\u001b[39m}\u001b[39;00m\u001b[39m \u001b[39m\u001b[39m{\u001b[39;00mstudent[\u001b[39m\"\u001b[39m\u001b[39mLastname\u001b[39m\u001b[39m\"\u001b[39m]\u001b[39m}\u001b[39;00m\u001b[39m'\u001b[39m\n\u001b[0;32m     13\u001b[0m \u001b[39mfor\u001b[39;00m student \u001b[39min\u001b[39;00m students:\n\u001b[1;32m---> 14\u001b[0m     student(student, \u001b[39m3\u001b[39;49m)\n",
      "\u001b[1;31mTypeError\u001b[0m: 'dict' object is not callable"
     ]
    }
   ],
   "source": [
    "students_a = {\"firstname\": \"Kevin\", \"Lastname\": \"Thulin\", \"age\": 26, \"grade\": 1}\n",
    "students_b = {\"firstname\": \"Abba\", \"Lastname\": \"Schultz\", \"age\": 23, \"grade\": 4}\n",
    "students_c = {\"firstname\": \"Fredrik\", \"Lastname\": \"Boys\", \"age\": 22, \"grade\": 2}\n",
    "\n",
    "students = [students_a, students_c, students_b]\n",
    "\n",
    "def set_grade(student, grade):\n",
    "    student[\"grade\"] = grade\n",
    "\n",
    "def get_name(student):\n",
    "    return f'{student[\"firstname\"]} {student[\"Lastname\"]}'\n",
    "\n",
    "for student in students:\n",
    "    student(student, 3)"
   ]
  },
  {
   "cell_type": "code",
   "execution_count": 10,
   "metadata": {},
   "outputs": [],
   "source": [
    "class Student:\n",
    "    def __init__(self):\n",
    "        self.grade = 0.0\n"
   ]
  },
  {
   "cell_type": "code",
   "execution_count": 12,
   "metadata": {},
   "outputs": [
    {
     "name": "stdout",
     "output_type": "stream",
     "text": [
      "Kevin\n",
      "{'grade': 0.0, 'name': 'Lars'}\n",
      "{'grade': 0.0, 'name': 'Kevin', 'age': 52}\n"
     ]
    }
   ],
   "source": [
    "student_a = Student()\n",
    "student_b = Student()\n",
    "\n",
    "student_a.name = \"Kevin\"\n",
    "student_a.age = 52\n",
    "\n",
    "student_b.name = \"Lars\"\n",
    "\n",
    "print(student_a.name)\n",
    "print(student_b.__dict__)\n",
    "print(student_a.__dict__)"
   ]
  },
  {
   "cell_type": "code",
   "execution_count": 4,
   "metadata": {},
   "outputs": [],
   "source": [
    "class Cat:\n",
    "    def __init__(self, name, age):\n",
    "        self.name = name\n",
    "        self.age = age\n",
    "    \n",
    "    def greet_each_other(self, my_other_cat=None):\n",
    "        if my_other_cat is None:\n",
    "            print(f\"Hello, I'm {self.name} and I'm {self.age} years old\")\n",
    "        else:\n",
    "            age_difference = abs(my_other_cat.age - self.age)\n",
    "            print(f\"Hello, {my_other_cat.name}, I'm {self.name}, and I am {age_difference} years apart from you.\")\n",
    "\n",
    "\n",
    "\n",
    "# add \n"
   ]
  },
  {
   "cell_type": "code",
   "execution_count": 5,
   "metadata": {},
   "outputs": [
    {
     "name": "stdout",
     "output_type": "stream",
     "text": [
      "Hello, I'm Misse and I'm 3 years old\n",
      "Hello, I'm kevkos and I'm 5 years old\n",
      "Hello, kevkos, I'm Misse, and I am 2 years apart from you.\n",
      "Hello, Tove, I'm Misse, and I am 3 years apart from you.\n"
     ]
    }
   ],
   "source": [
    "my_cat = Cat(\"Misse\", 3)\n",
    "my_other_cat = Cat(\"kevkos\", 5)\n",
    "my_third_cat = Cat(\"Tove\", 6)\n",
    "\n",
    "my_cat.greet_each_other()\n",
    "my_other_cat.greet_each_other()\n",
    "\n",
    "my_cat.greet_each_other(my_other_cat)\n",
    "my_cat.greet_each_other(my_third_cat)"
   ]
  }
 ],
 "metadata": {
  "kernelspec": {
   "display_name": "Python 3",
   "language": "python",
   "name": "python3"
  },
  "language_info": {
   "codemirror_mode": {
    "name": "ipython",
    "version": 3
   },
   "file_extension": ".py",
   "mimetype": "text/x-python",
   "name": "python",
   "nbconvert_exporter": "python",
   "pygments_lexer": "ipython3",
   "version": "3.11.5"
  },
  "orig_nbformat": 4
 },
 "nbformat": 4,
 "nbformat_minor": 2
}
