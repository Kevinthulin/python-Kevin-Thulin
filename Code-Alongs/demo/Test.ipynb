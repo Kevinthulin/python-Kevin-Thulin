{
 "cells": [
  {
   "cell_type": "code",
   "execution_count": 39,
   "metadata": {},
   "outputs": [
    {
     "name": "stdout",
     "output_type": "stream",
     "text": [
      "x x x x x \n",
      "x o x o x \n",
      "x x x x x \n",
      "x o x o x \n",
      "x x x x x \n"
     ]
    }
   ],
   "source": [
    "def pattern(n):\n",
    "    for i in range(len(n)):\n",
    "        for j in range(len(n)):\n",
    "            if i % 2 == 0:\n",
    "                print(\"x\", end=\" \")\n",
    "            else:\n",
    "                if j % 2 == 0:\n",
    "                    print(\"x\", end=\" \")\n",
    "                else:\n",
    "                    print(\"o\", end=\" \")\n",
    "\n",
    "        print()\n",
    "\n",
    "pattern(\"tjena\")        \n"
   ]
  },
  {
   "cell_type": "code",
   "execution_count": 34,
   "metadata": {},
   "outputs": [
    {
     "name": "stdout",
     "output_type": "stream",
     "text": [
      "{'Tusenlapp': 3, 'Tvåhundralapp': 1, 'Tiokrona': 1, 'Enkrona': 4}\n"
     ]
    }
   ],
   "source": [
    "# 3214 = Tusenlapp: 3\n",
    "# Tvåhundralapp: 1\n",
    "# Tiokrona: 1\n",
    "# Enkrona: 4\n",
    "\n",
    "\n",
    "convert_money = {\n",
    "    \"Tusenlapp\": 1000,\n",
    "    \"Tvåhundralapp\": 200,\n",
    "    \"Tiokrona\": 10,\n",
    "    \"Enkrona\": 1\n",
    "}\n",
    "\n",
    "sum = 3214\n",
    "empy_list = {}\n",
    "\n",
    "for money, change in convert_money.items():\n",
    "    quantity = sum // change \n",
    "    sum %= change\n",
    "    if quantity > 0:\n",
    "        empy_list[money] = quantity\n",
    "\n",
    "print(empy_list)"
   ]
  },
  {
   "cell_type": "markdown",
   "metadata": {},
   "source": [
    "exchange = {\n",
    "    \"gold\": 1000,\n",
    "    \"silver\": 100,\n",
    "    \"copper\": 1\n",
    "}\n",
    "\n",
    "def exchange_amount(amount):\n",
    "    empty_dict = {}\n",
    "    for each, change in exchange.items():\n",
    "        # quantity = amount // change\n",
    "        quantity = amount % change\n",
    "        if quantity > 0:\n",
    "            empty_dict[each] = quantity\n",
    "    return empty_dict\n",
    "\n",
    "\n",
    "result = exchange_amount(4033365)\n",
    "print(result)\n"
   ]
  },
  {
   "cell_type": "code",
   "execution_count": 57,
   "metadata": {},
   "outputs": [
    {
     "name": "stdout",
     "output_type": "stream",
     "text": [
      "you cant remove what you dont have\n",
      "Item: Sword, Quantity: 2\n",
      "Item: Axe, Quantity: 4\n",
      "Item: Polearm, Quantity: 1\n"
     ]
    }
   ],
   "source": [
    "class InventorySystem:\n",
    "    def __init__(self):\n",
    "        self.inventory = []\n",
    "\n",
    "    def add_item(self, name, quant):\n",
    "        if not isinstance(name, str) or not isinstance(quant, int):\n",
    "            raise ValueError\n",
    "        item = {\"item\": name, \"quantity\": quant}\n",
    "        self.inventory.append(item) \n",
    "\n",
    "    def remove_item(self, name, quant):\n",
    "        if not isinstance(name, str) or not isinstance(quant, int):\n",
    "            raise ValueError\n",
    "        \n",
    "        item_found = False\n",
    "\n",
    "        for item_dict in self.inventory:\n",
    "            item_name = item_dict['item'] \n",
    "            item_quant = item_dict['quantity']\n",
    "\n",
    "            if name == item_name:\n",
    "                item_found = True\n",
    "                if quant > item_quant:\n",
    "                    print(\"you cant remove what you dont have\")  \n",
    "                elif quant == item_quant:\n",
    "                    self.inventory.remove(item_dict)\n",
    "                else:\n",
    "                    item_dict['quantity'] -= quant\n",
    "                    break\n",
    "\n",
    "        if not item_found:\n",
    "            print(\"there is not such item\")\n",
    "        \n",
    "\n",
    "    def view_inventory(self):\n",
    "        for item in self.inventory:\n",
    "            print(f\"Item: {item['item']}, Quantity: {item['quantity']}\")\n",
    "\n",
    "\n",
    "\n",
    "\n",
    "inv_sys = InventorySystem()\n",
    "inv_sys.add_item(\"Sword\", 2)\n",
    "inv_sys.add_item(\"Axe\", 4)\n",
    "inv_sys.add_item(\"Polearm\", 1)\n",
    "inv_sys.remove_item(\"Sword\", 3)\n",
    "inv_sys.view_inventory()"
   ]
  }
 ],
 "metadata": {
  "kernelspec": {
   "display_name": "Python 3",
   "language": "python",
   "name": "python3"
  },
  "language_info": {
   "codemirror_mode": {
    "name": "ipython",
    "version": 3
   },
   "file_extension": ".py",
   "mimetype": "text/x-python",
   "name": "python",
   "nbconvert_exporter": "python",
   "pygments_lexer": "ipython3",
   "version": "3.11.5"
  },
  "orig_nbformat": 4
 },
 "nbformat": 4,
 "nbformat_minor": 2
}
