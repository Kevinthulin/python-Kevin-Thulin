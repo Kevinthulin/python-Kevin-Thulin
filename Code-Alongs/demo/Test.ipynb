{
 "cells": [
  {
   "cell_type": "code",
   "execution_count": 3,
   "metadata": {},
   "outputs": [
    {
     "name": "stdout",
     "output_type": "stream",
     "text": [
      "x x x x x \n",
      "x o x o x \n",
      "x x x x x \n",
      "x o x o x \n",
      "x x x x x \n"
     ]
    }
   ],
   "source": [
    "def pattern(n):\n",
    "    for i in range(n):\n",
    "        for j in range(n):\n",
    "            if i % 2 == 0:\n",
    "                print(\"x\", end=\" \")\n",
    "            else:\n",
    "                if j % 2 == 0:\n",
    "                    print(\"x\", end=\" \")\n",
    "                else:\n",
    "                    print(\"o\", end=\" \")\n",
    "\n",
    "        print()\n",
    "\n",
    "pattern(5)        \n"
   ]
  },
  {
   "cell_type": "code",
   "execution_count": 9,
   "metadata": {},
   "outputs": [
    {
     "ename": "SyntaxError",
     "evalue": "expected ':' (1132470338.py, line 24)",
     "output_type": "error",
     "traceback": [
      "\u001b[1;36m  Cell \u001b[1;32mIn[9], line 24\u001b[1;36m\u001b[0m\n\u001b[1;33m    class Rectangle(Shape)\u001b[0m\n\u001b[1;37m                          ^\u001b[0m\n\u001b[1;31mSyntaxError\u001b[0m\u001b[1;31m:\u001b[0m expected ':'\n"
     ]
    }
   ],
   "source": [
    "import math\n",
    "\n",
    "class Shape:\n",
    "    def __init__(self, x ,y):\n",
    "        self.x = x\n",
    "        self.y = y\n",
    "\n",
    "    def __str__(self):\n",
    "        return f\"(Shape centred at {self.y} and {self.x})\"\n",
    "    \n",
    "    def __eq__(self, other):\n",
    "        if isinstance(other, Shape):\n",
    "            return self.area == other.area\n",
    "        return False\n",
    "\n",
    "\n",
    "class Circle(Shape):\n",
    "    def __init__(self, x, y, radius):\n",
    "        self.x = x\n",
    "        self.y = y\n",
    "        self.radius = radius\n",
    "    \n",
    "    @property\n",
    "    def area(self):\n",
    "        return math.pi * self.radius ** 2\n",
    "\n",
    "    def __str__(self):\n",
    "        return f\"Area of the circle is {self.radius} at postion x:{self.x} and y:{self.y}\"\n",
    "    \n",
    "class Rectangle(Shape):\n",
    "    def __init__(self, x, y, length, width):\n",
    "        self.x = x\n",
    "        self.y = y\n",
    "        self.length = length\n",
    "        self.width = width\n",
    "\n",
    "    @property\n",
    "    def area(self):\n",
    "        return self.width * self.length\n",
    "    \n",
    "    def __str__(self):\n",
    "        return f\"Area of rectangle is {self.area} at postion x:{self.x} and y:{self.y}\"\n"
   ]
  },
  {
   "cell_type": "code",
   "execution_count": null,
   "metadata": {},
   "outputs": [],
   "source": [
    ":"
   ]
  }
 ],
 "metadata": {
  "kernelspec": {
   "display_name": "Python 3",
   "language": "python",
   "name": "python3"
  },
  "language_info": {
   "codemirror_mode": {
    "name": "ipython",
    "version": 3
   },
   "file_extension": ".py",
   "mimetype": "text/x-python",
   "name": "python",
   "nbconvert_exporter": "python",
   "pygments_lexer": "ipython3",
   "version": "3.11.5"
  },
  "orig_nbformat": 4
 },
 "nbformat": 4,
 "nbformat_minor": 2
}
