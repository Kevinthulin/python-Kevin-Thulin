{
 "cells": [
  {
   "cell_type": "code",
   "execution_count": 3,
   "metadata": {},
   "outputs": [
    {
     "data": {
      "text/plain": [
       "6.0"
      ]
     },
     "execution_count": 3,
     "metadata": {},
     "output_type": "execute_result"
    }
   ],
   "source": [
    "\n",
    "def area(bas, höjd):\n",
    "    return  1/2 * bas * höjd\n",
    "\n",
    "try:\n",
    "    bas_input = int(input(\"vad är basen?\"))\n",
    "    height_input = int(input(\"vad är höjden\"))\n",
    "\n",
    "\n",
    "except ValueError:\n",
    "    print(\"måste vara nummer\")\n",
    "area(bas_input, height_input)"
   ]
  },
  {
   "cell_type": "code",
   "execution_count": 6,
   "metadata": {},
   "outputs": [
    {
     "name": "stdout",
     "output_type": "stream",
     "text": [
      "m\n",
      "o\n",
      "l\n",
      "n\n",
      "i\n",
      "g\n",
      "t\n"
     ]
    }
   ],
   "source": [
    "import random\n",
    "\n",
    "days = [\"soligt\", \"molnigt\", \"regning\", \"snöigt\", \"stormigt\"]\n",
    "\n",
    "stored_days = []\n",
    "for i in random.choice(days):\n",
    "    \n"
   ]
  },
  {
   "cell_type": "code",
   "execution_count": 20,
   "metadata": {},
   "outputs": [
    {
     "name": "stdout",
     "output_type": "stream",
     "text": [
      "['a', 'b', 'c']\n",
      "['a', 'b', 'c']\n"
     ]
    }
   ],
   "source": [
    "old = [\"a\", \"b\", \"c\", \"a\", \"c\", \"a\", \"b\"]\n",
    "\n",
    "new = []\n",
    "for item in old:\n",
    "    if item not in new:\n",
    "        new.append(item)\n",
    "\n",
    "new_2 = list(dict.fromkeys(old).keys())\n",
    "\n",
    "print(new)\n",
    "print(new_2)"
   ]
  },
  {
   "cell_type": "code",
   "execution_count": 23,
   "metadata": {},
   "outputs": [
    {
     "name": "stdout",
     "output_type": "stream",
     "text": [
      "{'potion': 6, 'sword': 2, 'shield': 2}\n"
     ]
    }
   ],
   "source": [
    "inv = {\n",
    "    \"sword\": 1,\n",
    "    \"potion\": 3\n",
    "}\n",
    "\n",
    "loot = {\n",
    "    \"sword\": 1,\n",
    "    \"potion\": 3,\n",
    "    \"shield\": 2\n",
    "}\n",
    "\n",
    "new_inv = {\n",
    "    k: inv.get(k, 0) + loot.get(k, 0) \\\n",
    "    for k in set(inv | loot)\n",
    "}\n",
    "\n",
    "print(new_inv)\n"
   ]
  },
  {
   "cell_type": "code",
   "execution_count": 27,
   "metadata": {},
   "outputs": [
    {
     "name": "stdout",
     "output_type": "stream",
     "text": [
      "2\n"
     ]
    }
   ],
   "source": [
    "x = [2, 3, 1, 5, 4, 3, 4, 5, 4, 3, 2, 5, 1, 2, 5, 2, 2, 3, 1, 2, 4, 5, 3, 2]\n",
    "\n",
    "most = max(set(x), key=x.count)\n",
    "\n",
    "print(most)"
   ]
  },
  {
   "cell_type": "code",
   "execution_count": null,
   "metadata": {},
   "outputs": [],
   "source": []
  }
 ],
 "metadata": {
  "kernelspec": {
   "display_name": "Python 3",
   "language": "python",
   "name": "python3"
  },
  "language_info": {
   "codemirror_mode": {
    "name": "ipython",
    "version": 3
   },
   "file_extension": ".py",
   "mimetype": "text/x-python",
   "name": "python",
   "nbconvert_exporter": "python",
   "pygments_lexer": "ipython3",
   "version": "3.11.5"
  }
 },
 "nbformat": 4,
 "nbformat_minor": 2
}
