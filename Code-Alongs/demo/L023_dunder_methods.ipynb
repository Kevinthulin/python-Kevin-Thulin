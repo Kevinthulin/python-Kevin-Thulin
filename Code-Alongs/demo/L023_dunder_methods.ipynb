{
 "cells": [
  {
   "cell_type": "markdown",
   "metadata": {},
   "source": [
    "# Dunder methods (double underscore __)\n",
    "\n",
    "\\_\\_init__() is called when a new object instance is created the purpose is to initialize the object"
   ]
  },
  {
   "cell_type": "code",
   "execution_count": 19,
   "metadata": {},
   "outputs": [
    {
     "name": "stdout",
     "output_type": "stream",
     "text": [
      "This is cat called Maaju\n",
      "Cat('Maaju')\n"
     ]
    }
   ],
   "source": [
    "class Cat:\n",
    "    def __init__(self, name):\n",
    "        self.name = name\n",
    "\n",
    "    def __str__(self):\n",
    "        return f\"This is cat called {self.name}\"\n",
    "    \n",
    "\n",
    "    def __repr__(self):\n",
    "        return f\"Cat('{self.name}')\"\n",
    "    \n",
    "    \n",
    "\n",
    "\n",
    "\n",
    "my_cat = Cat(\"Maaju\")\n",
    "\n",
    "\n",
    "my_int = 5\n",
    "my_bool = True\n",
    "my_string = str(my_cat)\n",
    "\n",
    "\n",
    "print(str(my_string))\n",
    "print(repr(my_cat))\n",
    "\n",
    "\n"
   ]
  },
  {
   "cell_type": "code",
   "execution_count": 18,
   "metadata": {},
   "outputs": [
    {
     "name": "stdout",
     "output_type": "stream",
     "text": [
      "Cat('Maaju')\n"
     ]
    },
    {
     "data": {
      "text/plain": [
       "'Maaju'"
      ]
     },
     "execution_count": 18,
     "metadata": {},
     "output_type": "execute_result"
    }
   ],
   "source": [
    "my_cat = Cat(\"Maaju\")\n",
    "print(repr(my_cat))\n",
    "copycat = eval(repr(my_cat))\n",
    "copycat.name\n"
   ]
  },
  {
   "cell_type": "code",
   "execution_count": null,
   "metadata": {},
   "outputs": [],
   "source": []
  },
  {
   "cell_type": "code",
   "execution_count": 8,
   "metadata": {},
   "outputs": [
    {
     "name": "stdout",
     "output_type": "stream",
     "text": [
      "This is cat called Mjau\n",
      "This is cat called pelle\n",
      "This is cat called agus\n"
     ]
    }
   ],
   "source": [
    "cats = [Cat(\"Mjau\"), Cat(\"pelle\"), Cat(\"agus\")]\n",
    "\n",
    "for cat in cats:\n",
    "    print(str(cat))\n",
    "\n",
    "    "
   ]
  }
 ],
 "metadata": {
  "kernelspec": {
   "display_name": "Python 3",
   "language": "python",
   "name": "python3"
  },
  "language_info": {
   "codemirror_mode": {
    "name": "ipython",
    "version": 3
   },
   "file_extension": ".py",
   "mimetype": "text/x-python",
   "name": "python",
   "nbconvert_exporter": "python",
   "pygments_lexer": "ipython3",
   "version": "3.11.5"
  },
  "orig_nbformat": 4
 },
 "nbformat": 4,
 "nbformat_minor": 2
}
