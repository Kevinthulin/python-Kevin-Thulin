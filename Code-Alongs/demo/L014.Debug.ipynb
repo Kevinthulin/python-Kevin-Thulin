{
 "cells": [
  {
   "cell_type": "markdown",
   "metadata": {},
   "source": [
    "# Debugging\n",
    "\n",
    "Finding and correcting erroors(bugs) in code.\n",
    "\n",
    "## Break point\n",
    "\n",
    "In all IDE (intergrated Development Enviroment) The developer has the possibility to debug code by steping through instructions one by one and look at the internal states (memory/variables) for each step \n",
    "\n",
    "We can set one or multiple break points at any line in our code. when starting the program in debug mode, the code will run up until it hits the first breakpoint. from there we can inspect the current state of out program, and we can chose to either run our program until it hits the next breakpoint, or we can use the \"step over\" function of the debugger to step one instruction at a time."
   ]
  },
  {
   "cell_type": "code",
   "execution_count": 2,
   "metadata": {},
   "outputs": [],
   "source": [
    "def greet(n):\n",
    "\n",
    "    for i in range(n):\n",
    "        print(\"hello\")\n",
    "\n",
    "a = 5\n",
    "b = 6\n",
    "c = a + b\n",
    "greet(b)\n",
    "print(c)"
   ]
  }
 ],
 "metadata": {
  "kernelspec": {
   "display_name": "Python 3",
   "language": "python",
   "name": "python3"
  },
  "language_info": {
   "codemirror_mode": {
    "name": "ipython",
    "version": 3
   },
   "file_extension": ".py",
   "mimetype": "text/x-python",
   "name": "python",
   "nbconvert_exporter": "python",
   "pygments_lexer": "ipython3",
   "version": "3.11.5"
  },
  "orig_nbformat": 4
 },
 "nbformat": 4,
 "nbformat_minor": 2
}
