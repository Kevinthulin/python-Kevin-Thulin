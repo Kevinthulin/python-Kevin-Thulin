{
 "cells": [
  {
   "cell_type": "markdown",
   "metadata": {},
   "source": [
    "# Dictionaries\n",
    "- Dictionaries are used to store data in key-balue pairs\n",
    "- keys are used to access values, and must be unique\n",
    "- only immutable types (eg. string, int, float, bool) can be used keys\n",
    "- Dictionaries are ordered and changeable"
   ]
  },
  {
   "cell_type": "code",
   "execution_count": 14,
   "metadata": {},
   "outputs": [
    {
     "name": "stdout",
     "output_type": "stream",
     "text": [
      "10\n",
      "['Kevin@hotmail.com', 'kevin.t@hotmail.com', 'kevin_cool@gmail.com']\n",
      "{'age': 42, 'languages': ['python', 'C#', 'javascript'], 'contactinfo': {'phone': '0734120627', 'email': ['Kevin@hotmail.com', 'kevin.t@hotmail.com', 'kevin_cool@gmail.com']}, 'length': 1.8}\n",
      "johansson\n"
     ]
    }
   ],
   "source": [
    "# create empty dictioanry\n",
    "empty_dictonary = {}\n",
    "\n",
    "teacher = {\n",
    "    \"firstname\": \"fredrik\", \n",
    "    \"Lastname\": \"johansson\", \n",
    "    \"age\": 42,\n",
    "    \"languages\": [\"python\", \"C#\", \"javascript\"],\n",
    "    \"contactinfo\": {\n",
    "        \"phone\": \"0734120627\",\n",
    "        \"email\": [\n",
    "            \"Kevin@hotmail.com\", \n",
    "            \"kevin.t@hotmail.com\", \n",
    "            \"kevin_cool@gmail.com\"\n",
    "        ],\n",
    "    }\n",
    "}\n",
    "\n",
    "print(f\"{len(teacher['languages'][-1])}\")\n",
    "\n",
    "print(f\"{(teacher['contactinfo']['email'])}\")\n",
    "# add key to dictionary\n",
    "teacher[\"length\"] = 1.80\n",
    "\n",
    "# remove key and return value from dicitionary\n",
    "\n",
    "removed_value = teacher.pop(\"Lastname\")\n",
    "\n",
    "del(teacher[\"firstname\"])\n",
    "print(teacher)\n",
    "print(removed_value)"
   ]
  },
  {
   "cell_type": "markdown",
   "metadata": {},
   "source": [
    "# Get value using key"
   ]
  },
  {
   "cell_type": "code",
   "execution_count": 26,
   "metadata": {},
   "outputs": [],
   "source": [
    "key = input(\"Enter key:\")\n",
    "\n",
    "if key in teacher:\n",
    "    print(teacher[key])\n",
    "else:\n",
    "    print(\" :/\")"
   ]
  },
  {
   "cell_type": "code",
   "execution_count": 15,
   "metadata": {},
   "outputs": [
    {
     "name": "stdout",
     "output_type": "stream",
     "text": [
      "42\n"
     ]
    }
   ],
   "source": [
    "key = input(\"Enter key:\")\n",
    "print(teacher.get(key, \":(\"))"
   ]
  },
  {
   "cell_type": "markdown",
   "metadata": {},
   "source": [
    "# Looping through a dictionary"
   ]
  },
  {
   "cell_type": "code",
   "execution_count": 17,
   "metadata": {},
   "outputs": [
    {
     "name": "stdout",
     "output_type": "stream",
     "text": [
      "age\n",
      "languages\n",
      "contactinfo\n",
      "length\n",
      "\n",
      "42\n",
      "['python', 'C#', 'javascript']\n",
      "{'phone': '0734120627', 'email': ['Kevin@hotmail.com', 'kevin.t@hotmail.com', 'kevin_cool@gmail.com']}\n",
      "1.8\n",
      "\n",
      "\n",
      "\n",
      "\n",
      "\n",
      "age = 42\n",
      "languages = ['python', 'C#', 'javascript']\n",
      "contactinfo = {'phone': '0734120627', 'email': ['Kevin@hotmail.com', 'kevin.t@hotmail.com', 'kevin_cool@gmail.com']}\n",
      "length = 1.8\n"
     ]
    }
   ],
   "source": [
    "for key in teacher.keys():\n",
    "    print(key)\n",
    "\n",
    "print()\n",
    "\n",
    "for value in teacher.values():\n",
    "    print(value)\n",
    "\n",
    "print()\n",
    "\n",
    "for key in teacher:\n",
    "    print()\n",
    "\n",
    "for key, value in teacher.items():\n",
    "    print(f\"{key} = {value}\")"
   ]
  }
 ],
 "metadata": {
  "kernelspec": {
   "display_name": "Python 3",
   "language": "python",
   "name": "python3"
  },
  "language_info": {
   "codemirror_mode": {
    "name": "ipython",
    "version": 3
   },
   "file_extension": ".py",
   "mimetype": "text/x-python",
   "name": "python",
   "nbconvert_exporter": "python",
   "pygments_lexer": "ipython3",
   "version": "3.11.5"
  },
  "orig_nbformat": 4
 },
 "nbformat": 4,
 "nbformat_minor": 2
}
