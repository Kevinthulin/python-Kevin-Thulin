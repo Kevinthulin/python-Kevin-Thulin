{
 "cells": [
  {
   "cell_type": "markdown",
   "metadata": {},
   "source": [
    "# Tuples\n",
    "- Tuples are used to store multiple items in a single variable\n",
    "- Tuple items are ordered, unchangeable, and allow duplicatr values\n",
    "- Tuples items are indexed, the first item has iden[0], the second item has index [1], and so on.\n",
    "- Tuples are written with round brackets."
   ]
  },
  {
   "cell_type": "code",
   "execution_count": null,
   "metadata": {},
   "outputs": [],
   "source": [
    "# create empty tuple\n",
    "empty_tuple = ()\n",
    "\n",
    "# create tuple with one item\n",
    "single_item_tuple = (1, )"
   ]
  }
 ],
 "metadata": {
  "language_info": {
   "name": "python"
  },
  "orig_nbformat": 4
 },
 "nbformat": 4,
 "nbformat_minor": 2
}
